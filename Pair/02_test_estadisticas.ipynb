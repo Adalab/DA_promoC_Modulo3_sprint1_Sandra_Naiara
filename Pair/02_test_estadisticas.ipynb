{
 "cells": [
  {
   "attachments": {},
   "cell_type": "markdown",
   "metadata": {},
   "source": [
    "TEST ESTADÍSTICO"
   ]
  },
  {
   "cell_type": "code",
   "execution_count": 1,
   "metadata": {},
   "outputs": [],
   "source": [
    "import pandas as pd\n",
    "import numpy as np\n",
    "import matplotlib.pyplot as plt\n",
    "import seaborn as sns\n",
    "plt.rcParams[\"figure.figsize\"] = (10,8)\n",
    "import warnings\n",
    "warnings.filterwarnings('ignore')\n",
    "from scipy.stats import kurtosistest\n",
    "from scipy.stats import kstest"
   ]
  },
  {
   "cell_type": "code",
   "execution_count": 2,
   "metadata": {},
   "outputs": [],
   "source": [
    "df = pd.read_csv(\"../ficheros/diamons_01.csv\",index_col =0)"
   ]
  },
  {
   "attachments": {},
   "cell_type": "markdown",
   "metadata": {},
   "source": [
    "¿Qué diferencia existe el error de tipo I y el error de tipo II?\n",
    "\n",
    "- El error de tipo 1 Es que rechazamos la hipotesis nula (H0) cuando es verdadera\n",
    "\n",
    "- El error de tipo 2 Es que aceptamos la hipotesis nula (H0) siendo falsa\n",
    " \n",
    " Por ejmplo\n",
    " H0 test de embarazo dice que no estas embarazada\n",
    " el error tipo 1 es que el test te dice que si cuando no lo estas (osea falso positivo)\n",
    " el error de tipo 2 el test dice que no estas embarazada y en realidad si lo estas.\n"
   ]
  },
  {
   "attachments": {},
   "cell_type": "markdown",
   "metadata": {},
   "source": [
    "¿Qué es la asimetría?\n",
    " \n",
    " - Que los datos no estan igual distribuidos respecto a la media."
   ]
  },
  {
   "attachments": {},
   "cell_type": "markdown",
   "metadata": {},
   "source": [
    "¿Es vuestra variable respuesta asimétrica?\n",
    "Tras hacer el sesgo y la gráfica, podemos ver que, es una distribución asimetrica positiva, la media sera  mayor que la mediana y la moda por lo tanto no son normales."
   ]
  },
  {
   "cell_type": "code",
   "execution_count": 3,
   "metadata": {},
   "outputs": [
    {
     "data": {
      "text/plain": [
       "1.1890742393683864"
      ]
     },
     "execution_count": 3,
     "metadata": {},
     "output_type": "execute_result"
    }
   ],
   "source": [
    "df[\"price\"].skew()"
   ]
  },
  {
   "cell_type": "code",
   "execution_count": 4,
   "metadata": {},
   "outputs": [
    {
     "data": {
      "image/png": "[encoded data removed]",
      "text/plain": [
       "<Figure size 360x360 with 1 Axes>"
      ]
     },
     "metadata": {
      "needs_background": "light"
     },
     "output_type": "display_data"
    }
   ],
   "source": [
    "sns.displot(df[\"price\"], kde = True);"
   ]
  },
  {
   "attachments": {},
   "cell_type": "markdown",
   "metadata": {},
   "source": [
    "¿Qué tipo de curtosis presenta vuestra variable respuesta?\n"
   ]
  },
  {
   "cell_type": "code",
   "execution_count": 5,
   "metadata": {},
   "outputs": [
    {
     "data": {
      "text/plain": [
       "KurtosistestResult(statistic=22.08120625588321, pvalue=4.791274477195133e-108)"
      ]
     },
     "execution_count": 5,
     "metadata": {},
     "output_type": "execute_result"
    }
   ],
   "source": [
    "kurtosistest(df[\"price\"])"
   ]
  },
  {
   "attachments": {},
   "cell_type": "markdown",
   "metadata": {},
   "source": [
    "Al ser el coficiente de Kurtosis mayor que cero, vemos que es leptocúrtica."
   ]
  },
  {
   "attachments": {},
   "cell_type": "markdown",
   "metadata": {},
   "source": [
    "El p-valor del test es < que 0.05, esto nos indica que podemos rechazar la H por lo que los datos no son normales"
   ]
  },
  {
   "attachments": {},
   "cell_type": "markdown",
   "metadata": {},
   "source": [
    "¿Es vuestra variable respuesta normal? Demostrarlo visual y analíticamente."
   ]
  },
  {
   "cell_type": "code",
   "execution_count": 6,
   "metadata": {},
   "outputs": [
    {
     "data": {
      "text/plain": [
       "KstestResult(statistic=1.0, pvalue=0.0)"
      ]
     },
     "execution_count": 6,
     "metadata": {},
     "output_type": "execute_result"
    }
   ],
   "source": [
    "kstest(df[\"price\"],\"norm\")"
   ]
  },
  {
   "attachments": {},
   "cell_type": "markdown",
   "metadata": {},
   "source": [
    "Según la gráfica y los resultados obtenidos en el test kolmogorov-Smimov podemos concluir que los datos no son normales y podemos rechazar la H0"
   ]
  }
 ],
 "metadata": {
  "kernelspec": {
   "display_name": "base",
   "language": "python",
   "name": "python3"
  },
  "language_info": {
   "codemirror_mode": {
    "name": "ipython",
    "version": 3
   },
   "file_extension": ".py",
   "mimetype": "text/x-python",
   "name": "python",
   "nbconvert_exporter": "python",
   "pygments_lexer": "ipython3",
   "version": "3.9.7"
  },
  "orig_nbformat": 4,
  "vscode": {
   "interpreter": {
    "hash": "0d3094a56c6b31c905bcb2da8b4cf1aa49aba23d7ea938b958a6a1dfa31215d2"
   }
  }
 },
 "nbformat": 4,
 "nbformat_minor": 2
}
