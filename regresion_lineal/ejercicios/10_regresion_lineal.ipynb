{
 "cells": [
  {
   "attachments": {},
   "cell_type": "markdown",
   "metadata": {},
   "source": [
    "## METRICAS REGRESIÓN LINEAL"
   ]
  },
  {
   "cell_type": "code",
   "execution_count": 2,
   "metadata": {},
   "outputs": [],
   "source": [
    "import numpy as np\n",
    "import pandas as pd\n",
    "\n",
    "import matplotlib.pyplot as plt\n",
    "import seaborn as sns\n",
    "\n",
    "from sklearn.model_selection import train_test_split\n",
    "from sklearn.linear_model import LinearRegression\n",
    "from sklearn.metrics import r2_score, mean_squared_error, mean_absolute_error\n",
    "\n",
    "import warnings\n",
    "warnings.filterwarnings('ignore')"
   ]
  },
  {
   "attachments": {},
   "cell_type": "markdown",
   "metadata": {},
   "source": [
    "En el pair de hoy tendremos que:\n",
    "- Calcular las métricas para vuestro modelo\n",
    "- Discutir los resultados de las métricas y extraed conclusiones\n",
    "- Guardar los resultados de las métricas en un csv para usarlo más adelante."
   ]
  },
  {
   "attachments": {},
   "cell_type": "markdown",
   "metadata": {},
   "source": [
    "Probamos con los datos sin estandarizar con el encoding"
   ]
  },
  {
   "cell_type": "code",
   "execution_count": 3,
   "metadata": {},
   "outputs": [
    {
     "data": {
      "text/html": [
       "<div>\n",
       "<style scoped>\n",
       "    .dataframe tbody tr th:only-of-type {\n",
       "        vertical-align: middle;\n",
       "    }\n",
       "\n",
       "    .dataframe tbody tr th {\n",
       "        vertical-align: top;\n",
       "    }\n",
       "\n",
       "    .dataframe thead th {\n",
       "        text-align: right;\n",
       "    }\n",
       "</style>\n",
       "<table border=\"1\" class=\"dataframe\">\n",
       "  <thead>\n",
       "    <tr style=\"text-align: right;\">\n",
       "      <th></th>\n",
       "      <th>carat</th>\n",
       "      <th>cut</th>\n",
       "      <th>color</th>\n",
       "      <th>clarity</th>\n",
       "      <th>depth</th>\n",
       "      <th>table</th>\n",
       "      <th>price</th>\n",
       "      <th>x</th>\n",
       "      <th>y</th>\n",
       "      <th>z</th>\n",
       "    </tr>\n",
       "  </thead>\n",
       "  <tbody>\n",
       "    <tr>\n",
       "      <th>0</th>\n",
       "      <td>0.23</td>\n",
       "      <td>4</td>\n",
       "      <td>5</td>\n",
       "      <td>1</td>\n",
       "      <td>61.5</td>\n",
       "      <td>55.0</td>\n",
       "      <td>326</td>\n",
       "      <td>3.95</td>\n",
       "      <td>3.98</td>\n",
       "      <td>2.43</td>\n",
       "    </tr>\n",
       "    <tr>\n",
       "      <th>1</th>\n",
       "      <td>0.21</td>\n",
       "      <td>3</td>\n",
       "      <td>5</td>\n",
       "      <td>2</td>\n",
       "      <td>59.8</td>\n",
       "      <td>61.0</td>\n",
       "      <td>326</td>\n",
       "      <td>3.89</td>\n",
       "      <td>3.84</td>\n",
       "      <td>2.31</td>\n",
       "    </tr>\n",
       "    <tr>\n",
       "      <th>2</th>\n",
       "      <td>0.23</td>\n",
       "      <td>1</td>\n",
       "      <td>5</td>\n",
       "      <td>4</td>\n",
       "      <td>56.9</td>\n",
       "      <td>65.0</td>\n",
       "      <td>327</td>\n",
       "      <td>4.05</td>\n",
       "      <td>4.07</td>\n",
       "      <td>2.31</td>\n",
       "    </tr>\n",
       "    <tr>\n",
       "      <th>3</th>\n",
       "      <td>0.29</td>\n",
       "      <td>3</td>\n",
       "      <td>1</td>\n",
       "      <td>3</td>\n",
       "      <td>62.4</td>\n",
       "      <td>58.0</td>\n",
       "      <td>334</td>\n",
       "      <td>4.20</td>\n",
       "      <td>4.23</td>\n",
       "      <td>2.63</td>\n",
       "    </tr>\n",
       "    <tr>\n",
       "      <th>4</th>\n",
       "      <td>0.31</td>\n",
       "      <td>1</td>\n",
       "      <td>0</td>\n",
       "      <td>1</td>\n",
       "      <td>63.3</td>\n",
       "      <td>58.0</td>\n",
       "      <td>335</td>\n",
       "      <td>4.34</td>\n",
       "      <td>4.35</td>\n",
       "      <td>2.75</td>\n",
       "    </tr>\n",
       "  </tbody>\n",
       "</table>\n",
       "</div>"
      ],
      "text/plain": [
       "   carat  cut  color  clarity  depth  table  price     x     y     z\n",
       "0   0.23    4      5        1   61.5   55.0    326  3.95  3.98  2.43\n",
       "1   0.21    3      5        2   59.8   61.0    326  3.89  3.84  2.31\n",
       "2   0.23    1      5        4   56.9   65.0    327  4.05  4.07  2.31\n",
       "3   0.29    3      1        3   62.4   58.0    334  4.20  4.23  2.63\n",
       "4   0.31    1      0        1   63.3   58.0    335  4.34  4.35  2.75"
      ]
     },
     "execution_count": 3,
     "metadata": {},
     "output_type": "execute_result"
    }
   ],
   "source": [
    "df = pd.read_csv(\"../ficheros/diamons_enconding.csv\", index_col = 0).reset_index(drop= True) \n",
    "df.head()"
   ]
  },
  {
   "cell_type": "code",
   "execution_count": 4,
   "metadata": {},
   "outputs": [],
   "source": [
    "# Separamos la variable respuesta y las predictoras\n",
    "X = df.drop(\"price\", axis = 1)\n",
    "y = df[\"price\"]"
   ]
  },
  {
   "cell_type": "code",
   "execution_count": 5,
   "metadata": {},
   "outputs": [],
   "source": [
    "# Dividimos los datos entre entrenamiento y test\n",
    "x_train, x_test, y_train, y_test = train_test_split(X, y, test_size = 0.2, random_state = 42)"
   ]
  },
  {
   "cell_type": "code",
   "execution_count": 6,
   "metadata": {},
   "outputs": [],
   "source": [
    "# iniciamos la regresión lineal.\n",
    "lr = LinearRegression(n_jobs=-1)"
   ]
  },
  {
   "cell_type": "code",
   "execution_count": 7,
   "metadata": {},
   "outputs": [
    {
     "data": {
      "text/html": [
       "<style>#sk-container-id-1 {color: black;background-color: white;}#sk-container-id-1 pre{padding: 0;}#sk-container-id-1 div.sk-toggleable {background-color: white;}#sk-container-id-1 label.sk-toggleable__label {cursor: pointer;display: block;width: 100%;margin-bottom: 0;padding: 0.3em;box-sizing: border-box;text-align: center;}#sk-container-id-1 label.sk-toggleable__label-arrow:before {content: \"▸\";float: left;margin-right: 0.25em;color: #696969;}#sk-container-id-1 label.sk-toggleable__label-arrow:hover:before {color: black;}#sk-container-id-1 div.sk-estimator:hover label.sk-toggleable__label-arrow:before {color: black;}#sk-container-id-1 div.sk-toggleable__content {max-height: 0;max-width: 0;overflow: hidden;text-align: left;background-color: #f0f8ff;}#sk-container-id-1 div.sk-toggleable__content pre {margin: 0.2em;color: black;border-radius: 0.25em;background-color: #f0f8ff;}#sk-container-id-1 input.sk-toggleable__control:checked~div.sk-toggleable__content {max-height: 200px;max-width: 100%;overflow: auto;}#sk-container-id-1 input.sk-toggleable__control:checked~label.sk-toggleable__label-arrow:before {content: \"▾\";}#sk-container-id-1 div.sk-estimator input.sk-toggleable__control:checked~label.sk-toggleable__label {background-color: #d4ebff;}#sk-container-id-1 div.sk-label input.sk-toggleable__control:checked~label.sk-toggleable__label {background-color: #d4ebff;}#sk-container-id-1 input.sk-hidden--visually {border: 0;clip: rect(1px 1px 1px 1px);clip: rect(1px, 1px, 1px, 1px);height: 1px;margin: -1px;overflow: hidden;padding: 0;position: absolute;width: 1px;}#sk-container-id-1 div.sk-estimator {font-family: monospace;background-color: #f0f8ff;border: 1px dotted black;border-radius: 0.25em;box-sizing: border-box;margin-bottom: 0.5em;}#sk-container-id-1 div.sk-estimator:hover {background-color: #d4ebff;}#sk-container-id-1 div.sk-parallel-item::after {content: \"\";width: 100%;border-bottom: 1px solid gray;flex-grow: 1;}#sk-container-id-1 div.sk-label:hover label.sk-toggleable__label {background-color: #d4ebff;}#sk-container-id-1 div.sk-serial::before {content: \"\";position: absolute;border-left: 1px solid gray;box-sizing: border-box;top: 0;bottom: 0;left: 50%;z-index: 0;}#sk-container-id-1 div.sk-serial {display: flex;flex-direction: column;align-items: center;background-color: white;padding-right: 0.2em;padding-left: 0.2em;position: relative;}#sk-container-id-1 div.sk-item {position: relative;z-index: 1;}#sk-container-id-1 div.sk-parallel {display: flex;align-items: stretch;justify-content: center;background-color: white;position: relative;}#sk-container-id-1 div.sk-item::before, #sk-container-id-1 div.sk-parallel-item::before {content: \"\";position: absolute;border-left: 1px solid gray;box-sizing: border-box;top: 0;bottom: 0;left: 50%;z-index: -1;}#sk-container-id-1 div.sk-parallel-item {display: flex;flex-direction: column;z-index: 1;position: relative;background-color: white;}#sk-container-id-1 div.sk-parallel-item:first-child::after {align-self: flex-end;width: 50%;}#sk-container-id-1 div.sk-parallel-item:last-child::after {align-self: flex-start;width: 50%;}#sk-container-id-1 div.sk-parallel-item:only-child::after {width: 0;}#sk-container-id-1 div.sk-dashed-wrapped {border: 1px dashed gray;margin: 0 0.4em 0.5em 0.4em;box-sizing: border-box;padding-bottom: 0.4em;background-color: white;}#sk-container-id-1 div.sk-label label {font-family: monospace;font-weight: bold;display: inline-block;line-height: 1.2em;}#sk-container-id-1 div.sk-label-container {text-align: center;}#sk-container-id-1 div.sk-container {/* jupyter's `normalize.less` sets `[hidden] { display: none; }` but bootstrap.min.css set `[hidden] { display: none !important; }` so we also need the `!important` here to be able to override the default hidden behavior on the sphinx rendered scikit-learn.org. See: https://github.com/scikit-learn/scikit-learn/issues/21755 */display: inline-block !important;position: relative;}#sk-container-id-1 div.sk-text-repr-fallback {display: none;}</style><div id=\"sk-container-id-1\" class=\"sk-top-container\"><div class=\"sk-text-repr-fallback\"><pre>LinearRegression(n_jobs=-1)</pre><b>In a Jupyter environment, please rerun this cell to show the HTML representation or trust the notebook. <br />On GitHub, the HTML representation is unable to render, please try loading this page with nbviewer.org.</b></div><div class=\"sk-container\" hidden><div class=\"sk-item\"><div class=\"sk-estimator sk-toggleable\"><input class=\"sk-toggleable__control sk-hidden--visually\" id=\"sk-estimator-id-1\" type=\"checkbox\" checked><label for=\"sk-estimator-id-1\" class=\"sk-toggleable__label sk-toggleable__label-arrow\">LinearRegression</label><div class=\"sk-toggleable__content\"><pre>LinearRegression(n_jobs=-1)</pre></div></div></div></div></div>"
      ],
      "text/plain": [
       "LinearRegression(n_jobs=-1)"
      ]
     },
     "execution_count": 7,
     "metadata": {},
     "output_type": "execute_result"
    }
   ],
   "source": [
    "# fiteamos el modelo, lo que significa que le pasamos los datos de entrenamiento para que aprenda el algoritmo\n",
    "lr.fit(x_train, y_train)"
   ]
  },
  {
   "cell_type": "code",
   "execution_count": 8,
   "metadata": {},
   "outputs": [],
   "source": [
    "#Es el momento de hacer las predicciones, para eso usarmos el método predict() de sklearn \n",
    "y_predict_train = lr.predict(x_train) \n",
    "y_predict_test = lr.predict(x_test) "
   ]
  },
  {
   "cell_type": "code",
   "execution_count": 9,
   "metadata": {},
   "outputs": [
    {
     "data": {
      "text/html": [
       "<div>\n",
       "<style scoped>\n",
       "    .dataframe tbody tr th:only-of-type {\n",
       "        vertical-align: middle;\n",
       "    }\n",
       "\n",
       "    .dataframe tbody tr th {\n",
       "        vertical-align: top;\n",
       "    }\n",
       "\n",
       "    .dataframe thead th {\n",
       "        text-align: right;\n",
       "    }\n",
       "</style>\n",
       "<table border=\"1\" class=\"dataframe\">\n",
       "  <thead>\n",
       "    <tr style=\"text-align: right;\">\n",
       "      <th></th>\n",
       "      <th>Real</th>\n",
       "      <th>Predicted</th>\n",
       "      <th>Set</th>\n",
       "    </tr>\n",
       "  </thead>\n",
       "  <tbody>\n",
       "    <tr>\n",
       "      <th>31266</th>\n",
       "      <td>880</td>\n",
       "      <td>477.102597</td>\n",
       "      <td>Train</td>\n",
       "    </tr>\n",
       "    <tr>\n",
       "      <th>20273</th>\n",
       "      <td>8736</td>\n",
       "      <td>7692.039067</td>\n",
       "      <td>Train</td>\n",
       "    </tr>\n",
       "    <tr>\n",
       "      <th>17102</th>\n",
       "      <td>6848</td>\n",
       "      <td>6605.440777</td>\n",
       "      <td>Train</td>\n",
       "    </tr>\n",
       "    <tr>\n",
       "      <th>45495</th>\n",
       "      <td>2075</td>\n",
       "      <td>2259.005743</td>\n",
       "      <td>Train</td>\n",
       "    </tr>\n",
       "    <tr>\n",
       "      <th>16966</th>\n",
       "      <td>6793</td>\n",
       "      <td>6420.073325</td>\n",
       "      <td>Train</td>\n",
       "    </tr>\n",
       "  </tbody>\n",
       "</table>\n",
       "</div>"
      ],
      "text/plain": [
       "       Real    Predicted    Set\n",
       "31266   880   477.102597  Train\n",
       "20273  8736  7692.039067  Train\n",
       "17102  6848  6605.440777  Train\n",
       "45495  2075  2259.005743  Train\n",
       "16966  6793  6420.073325  Train"
      ]
     },
     "execution_count": 9,
     "metadata": {},
     "output_type": "execute_result"
    }
   ],
   "source": [
    "# Convertimos en dataframe las predicciones y las unimos (las de test y las de entrenamiento)\n",
    "train_df = pd.DataFrame({'Real': y_train, 'Predicted': y_predict_train, 'Set': ['Train']*len(y_train)})\n",
    "test_df  = pd.DataFrame({'Real': y_test,  'Predicted': y_predict_test,  'Set': ['Test']*len(y_test)})\n",
    "resultados = pd.concat([train_df,test_df], axis = 0)\n",
    "resultados.head()"
   ]
  },
  {
   "cell_type": "code",
   "execution_count": 10,
   "metadata": {},
   "outputs": [
    {
     "data": {
      "text/html": [
       "<div>\n",
       "<style scoped>\n",
       "    .dataframe tbody tr th:only-of-type {\n",
       "        vertical-align: middle;\n",
       "    }\n",
       "\n",
       "    .dataframe tbody tr th {\n",
       "        vertical-align: top;\n",
       "    }\n",
       "\n",
       "    .dataframe thead th {\n",
       "        text-align: right;\n",
       "    }\n",
       "</style>\n",
       "<table border=\"1\" class=\"dataframe\">\n",
       "  <thead>\n",
       "    <tr style=\"text-align: right;\">\n",
       "      <th></th>\n",
       "      <th>Real</th>\n",
       "      <th>Predicted</th>\n",
       "      <th>Set</th>\n",
       "      <th>residuos</th>\n",
       "    </tr>\n",
       "  </thead>\n",
       "  <tbody>\n",
       "    <tr>\n",
       "      <th>31266</th>\n",
       "      <td>880</td>\n",
       "      <td>477.102597</td>\n",
       "      <td>Train</td>\n",
       "      <td>402.897403</td>\n",
       "    </tr>\n",
       "    <tr>\n",
       "      <th>20273</th>\n",
       "      <td>8736</td>\n",
       "      <td>7692.039067</td>\n",
       "      <td>Train</td>\n",
       "      <td>1043.960933</td>\n",
       "    </tr>\n",
       "    <tr>\n",
       "      <th>17102</th>\n",
       "      <td>6848</td>\n",
       "      <td>6605.440777</td>\n",
       "      <td>Train</td>\n",
       "      <td>242.559223</td>\n",
       "    </tr>\n",
       "    <tr>\n",
       "      <th>45495</th>\n",
       "      <td>2075</td>\n",
       "      <td>2259.005743</td>\n",
       "      <td>Train</td>\n",
       "      <td>-184.005743</td>\n",
       "    </tr>\n",
       "    <tr>\n",
       "      <th>16966</th>\n",
       "      <td>6793</td>\n",
       "      <td>6420.073325</td>\n",
       "      <td>Train</td>\n",
       "      <td>372.926675</td>\n",
       "    </tr>\n",
       "  </tbody>\n",
       "</table>\n",
       "</div>"
      ],
      "text/plain": [
       "       Real    Predicted    Set     residuos\n",
       "31266   880   477.102597  Train   402.897403\n",
       "20273  8736  7692.039067  Train  1043.960933\n",
       "17102  6848  6605.440777  Train   242.559223\n",
       "45495  2075  2259.005743  Train  -184.005743\n",
       "16966  6793  6420.073325  Train   372.926675"
      ]
     },
     "execution_count": 10,
     "metadata": {},
     "output_type": "execute_result"
    }
   ],
   "source": [
    "# Creamos una nueva columna con los residuos, la diferencia entre lo real y lo que ha predecido nuestro modelo\n",
    "resultados['residuos'] = resultados['Real'] - resultados['Predicted']\n",
    "resultados.head()"
   ]
  },
  {
   "attachments": {},
   "cell_type": "markdown",
   "metadata": {},
   "source": [
    "Al igual que en el jupyter anterior, vemos que tenemos residuos muy grandes"
   ]
  },
  {
   "cell_type": "code",
   "execution_count": 11,
   "metadata": {},
   "outputs": [
    {
     "data": {
      "image/png": "[encoded data removed]",
      "text/plain": [
       "<Figure size 1440x1440 with 4 Axes>"
      ]
     },
     "metadata": {
      "needs_background": "light"
     },
     "output_type": "display_data"
    }
   ],
   "source": [
    "# Hacemos una gráfica para ver la diferencia entre lo real y lo que hemos predecido\n",
    "fig, ax = plt.subplots(2,2,figsize=(20,20))\n",
    "\n",
    "sns.regplot(data = resultados[resultados['Set'] == \"Train\"], \n",
    "            x = \"Real\", \n",
    "            y = \"Predicted\", \n",
    "            ax = ax[0,0], \n",
    "            color = \"blue\",\n",
    "            line_kws = {\"color\": \"red\", \"alpha\": 0.7 })\n",
    "\n",
    "sns.regplot(data = resultados[resultados['Set'] == \"Test\"], \n",
    "            x = \"Real\",\n",
    "            y = \"Predicted\", \n",
    "            color = \"blue\",\n",
    "            line_kws = {\"color\": \"red\", \"alpha\": 0.7 }, \n",
    "            ax = ax[1,0])\n",
    "\n",
    "# ploteamos los residuos\n",
    "sns.histplot(resultados[resultados['Set'] == \"Train\"],\n",
    "             x=\"residuos\",\n",
    "             color =\"blue\",\n",
    "             kde=True, \n",
    "             ax = ax[0,1])\n",
    "\n",
    "sns.histplot(resultados[resultados['Set'] == \"Test\"],\n",
    "             x=\"residuos\",\n",
    "             color = \"blue\",\n",
    "             kde=True, \n",
    "             ax = ax[1,1])\n",
    "\n",
    "ax[0,0].set_title(\"Train reales vs predichos\", fontsize = 15, fontweight = \"bold\")\n",
    "ax[0,1].set_title(\"Train residuos\", fontsize = 15, fontweight = \"bold\")\n",
    "ax[1,0].set_title(\"Test reales vs predichos\", fontsize = 15, fontweight = \"bold\")\n",
    "ax[1,1].set_title(\"Test residuos\", fontsize = 15, fontweight = \"bold\");"
   ]
  },
  {
   "cell_type": "code",
   "execution_count": 12,
   "metadata": {},
   "outputs": [
    {
     "name": "stdout",
     "output_type": "stream",
     "text": [
      "Para el conjunto train:---------------\n",
      "El valor de r2 score es  0.9055440051154418\n",
      "El MAE es 592.6581273092422\n",
      "El MSE es 722504.4826393581\n",
      "EL RMSE es  850.0026368425913\n",
      "Para el conjunto test:---------------\n",
      "El valor de r2 score es  0.9061201734641039\n",
      "El MAE es 590.9140627651343\n",
      "El MSE es 713235.4991300037\n",
      "EL RMSE es  844.5327105151131\n"
     ]
    }
   ],
   "source": [
    "# Para el conjunto de entrenamiento las méticas han sido\n",
    "print('Para el conjunto train:---------------')\n",
    "print('El valor de r2 score es ',r2_score(y_train,y_predict_train))\n",
    "print('El MAE es',mean_absolute_error(y_train,y_predict_train))\n",
    "print('El MSE es',mean_squared_error(y_train,y_predict_train))\n",
    "print('EL RMSE es ',np.sqrt(mean_squared_error(y_train,y_predict_train)))\n",
    "\n",
    "\n",
    "# Para el conjunto de test las métricas han sido\n",
    "print('Para el conjunto test:---------------')\n",
    "print('El valor de r2 score es ',r2_score(y_test,y_predict_test))\n",
    "print('El MAE es',mean_absolute_error(y_test,y_predict_test))\n",
    "print('El MSE es',mean_squared_error(y_test,y_predict_test))\n",
    "print('EL RMSE es ',np.sqrt(mean_squared_error(y_test,y_predict_test)))"
   ]
  },
  {
   "cell_type": "code",
   "execution_count": 14,
   "metadata": {},
   "outputs": [
    {
     "data": {
      "text/html": [
       "<div>\n",
       "<style scoped>\n",
       "    .dataframe tbody tr th:only-of-type {\n",
       "        vertical-align: middle;\n",
       "    }\n",
       "\n",
       "    .dataframe tbody tr th {\n",
       "        vertical-align: top;\n",
       "    }\n",
       "\n",
       "    .dataframe thead th {\n",
       "        text-align: right;\n",
       "    }\n",
       "</style>\n",
       "<table border=\"1\" class=\"dataframe\">\n",
       "  <thead>\n",
       "    <tr style=\"text-align: right;\">\n",
       "      <th></th>\n",
       "      <th>MAE</th>\n",
       "      <th>MSE</th>\n",
       "      <th>RMSE</th>\n",
       "      <th>R2</th>\n",
       "      <th>set</th>\n",
       "      <th>modelo</th>\n",
       "    </tr>\n",
       "  </thead>\n",
       "  <tbody>\n",
       "    <tr>\n",
       "      <th>0</th>\n",
       "      <td>590.914063</td>\n",
       "      <td>713235.499130</td>\n",
       "      <td>844.532711</td>\n",
       "      <td>0.906120</td>\n",
       "      <td>test</td>\n",
       "      <td>Linear Regresion Sin Estand</td>\n",
       "    </tr>\n",
       "    <tr>\n",
       "      <th>1</th>\n",
       "      <td>592.658127</td>\n",
       "      <td>722504.482639</td>\n",
       "      <td>850.002637</td>\n",
       "      <td>0.905544</td>\n",
       "      <td>train</td>\n",
       "      <td>Linear Regression Sin Estand</td>\n",
       "    </tr>\n",
       "  </tbody>\n",
       "</table>\n",
       "</div>"
      ],
      "text/plain": [
       "          MAE            MSE        RMSE        R2    set  \\\n",
       "0  590.914063  713235.499130  844.532711  0.906120   test   \n",
       "1  592.658127  722504.482639  850.002637  0.905544  train   \n",
       "\n",
       "                         modelo  \n",
       "0   Linear Regresion Sin Estand  \n",
       "1  Linear Regression Sin Estand  "
      ]
     },
     "execution_count": 14,
     "metadata": {},
     "output_type": "execute_result"
    }
   ],
   "source": [
    "# Lo convertimos en un dataframe para verlo mejor\n",
    "resultados_metricas = {'MAE': [mean_absolute_error(y_test, y_predict_test), mean_absolute_error(y_train, y_predict_train)],\n",
    "                'MSE': [mean_squared_error(y_test, y_predict_test), mean_squared_error(y_train, y_predict_train)],\n",
    "                'RMSE': [np.sqrt(mean_squared_error(y_test, y_predict_test)), np.sqrt(mean_squared_error(y_train, y_predict_train))],\n",
    "                'R2':  [r2_score(y_test, y_predict_test), r2_score(y_train, y_predict_train)],\n",
    "                 \"set\": [\"test\", \"train\"], \n",
    "                 \"modelo\": [\"Linear Regresion Sin Estand\", \"Linear Regression Sin Estand\"]}\n",
    "\n",
    "df_resultados = pd.DataFrame(resultados_metricas)\n",
    "\n",
    "df_resultados"
   ]
  },
  {
   "attachments": {},
   "cell_type": "markdown",
   "metadata": {},
   "source": [
    "Según el R2 del train, nuestro modelo podría predecir el 90% del precio de los diamantes, lo que puede parecer un buen valor.\n",
    "\n",
    "Sin embargo, con el RMSE podemos ver que hay una diferencia de 850$, lo cual nos parece demasiado. A pesar de que suponemos que será para los precios más altos. El importe máximo que tenemos es de 11.888$, por lo que sería una diferencia del 7,15%, que no sabemos si es bueno o no, pero a nosotras nos parece demasiado."
   ]
  },
  {
   "cell_type": "code",
   "execution_count": 15,
   "metadata": {},
   "outputs": [
    {
     "data": {
      "text/html": [
       "<div>\n",
       "<style scoped>\n",
       "    .dataframe tbody tr th:only-of-type {\n",
       "        vertical-align: middle;\n",
       "    }\n",
       "\n",
       "    .dataframe tbody tr th {\n",
       "        vertical-align: top;\n",
       "    }\n",
       "\n",
       "    .dataframe thead th {\n",
       "        text-align: right;\n",
       "    }\n",
       "</style>\n",
       "<table border=\"1\" class=\"dataframe\">\n",
       "  <thead>\n",
       "    <tr style=\"text-align: right;\">\n",
       "      <th></th>\n",
       "      <th>count</th>\n",
       "      <th>mean</th>\n",
       "      <th>std</th>\n",
       "      <th>min</th>\n",
       "      <th>25%</th>\n",
       "      <th>50%</th>\n",
       "      <th>75%</th>\n",
       "      <th>max</th>\n",
       "    </tr>\n",
       "  </thead>\n",
       "  <tbody>\n",
       "    <tr>\n",
       "      <th>carat</th>\n",
       "      <td>50242.0</td>\n",
       "      <td>0.722995</td>\n",
       "      <td>0.381567</td>\n",
       "      <td>0.20</td>\n",
       "      <td>0.38</td>\n",
       "      <td>0.70</td>\n",
       "      <td>1.01</td>\n",
       "      <td>2.77</td>\n",
       "    </tr>\n",
       "    <tr>\n",
       "      <th>cut</th>\n",
       "      <td>50242.0</td>\n",
       "      <td>2.906373</td>\n",
       "      <td>1.120846</td>\n",
       "      <td>0.00</td>\n",
       "      <td>2.00</td>\n",
       "      <td>3.00</td>\n",
       "      <td>4.00</td>\n",
       "      <td>4.00</td>\n",
       "    </tr>\n",
       "    <tr>\n",
       "      <th>color</th>\n",
       "      <td>50242.0</td>\n",
       "      <td>3.453047</td>\n",
       "      <td>1.689767</td>\n",
       "      <td>0.00</td>\n",
       "      <td>2.00</td>\n",
       "      <td>3.00</td>\n",
       "      <td>5.00</td>\n",
       "      <td>6.00</td>\n",
       "    </tr>\n",
       "    <tr>\n",
       "      <th>clarity</th>\n",
       "      <td>50242.0</td>\n",
       "      <td>3.078799</td>\n",
       "      <td>1.649553</td>\n",
       "      <td>0.00</td>\n",
       "      <td>2.00</td>\n",
       "      <td>3.00</td>\n",
       "      <td>4.00</td>\n",
       "      <td>7.00</td>\n",
       "    </tr>\n",
       "    <tr>\n",
       "      <th>depth</th>\n",
       "      <td>50242.0</td>\n",
       "      <td>61.754333</td>\n",
       "      <td>1.426388</td>\n",
       "      <td>43.00</td>\n",
       "      <td>61.10</td>\n",
       "      <td>61.80</td>\n",
       "      <td>62.50</td>\n",
       "      <td>79.00</td>\n",
       "    </tr>\n",
       "    <tr>\n",
       "      <th>table</th>\n",
       "      <td>50242.0</td>\n",
       "      <td>57.422410</td>\n",
       "      <td>2.227616</td>\n",
       "      <td>43.00</td>\n",
       "      <td>56.00</td>\n",
       "      <td>57.00</td>\n",
       "      <td>59.00</td>\n",
       "      <td>79.00</td>\n",
       "    </tr>\n",
       "    <tr>\n",
       "      <th>price</th>\n",
       "      <td>50242.0</td>\n",
       "      <td>3159.144222</td>\n",
       "      <td>2763.857194</td>\n",
       "      <td>326.00</td>\n",
       "      <td>911.00</td>\n",
       "      <td>2155.00</td>\n",
       "      <td>4668.00</td>\n",
       "      <td>11888.00</td>\n",
       "    </tr>\n",
       "    <tr>\n",
       "      <th>x</th>\n",
       "      <td>50242.0</td>\n",
       "      <td>5.582681</td>\n",
       "      <td>0.991198</td>\n",
       "      <td>3.73</td>\n",
       "      <td>4.67</td>\n",
       "      <td>5.59</td>\n",
       "      <td>6.43</td>\n",
       "      <td>8.93</td>\n",
       "    </tr>\n",
       "    <tr>\n",
       "      <th>y</th>\n",
       "      <td>50242.0</td>\n",
       "      <td>5.585400</td>\n",
       "      <td>0.983783</td>\n",
       "      <td>3.68</td>\n",
       "      <td>4.68</td>\n",
       "      <td>5.58</td>\n",
       "      <td>6.42</td>\n",
       "      <td>8.83</td>\n",
       "    </tr>\n",
       "    <tr>\n",
       "      <th>z</th>\n",
       "      <td>50242.0</td>\n",
       "      <td>3.448151</td>\n",
       "      <td>0.613879</td>\n",
       "      <td>1.41</td>\n",
       "      <td>2.88</td>\n",
       "      <td>3.43</td>\n",
       "      <td>3.98</td>\n",
       "      <td>5.60</td>\n",
       "    </tr>\n",
       "  </tbody>\n",
       "</table>\n",
       "</div>"
      ],
      "text/plain": [
       "           count         mean          std     min     25%      50%      75%  \\\n",
       "carat    50242.0     0.722995     0.381567    0.20    0.38     0.70     1.01   \n",
       "cut      50242.0     2.906373     1.120846    0.00    2.00     3.00     4.00   \n",
       "color    50242.0     3.453047     1.689767    0.00    2.00     3.00     5.00   \n",
       "clarity  50242.0     3.078799     1.649553    0.00    2.00     3.00     4.00   \n",
       "depth    50242.0    61.754333     1.426388   43.00   61.10    61.80    62.50   \n",
       "table    50242.0    57.422410     2.227616   43.00   56.00    57.00    59.00   \n",
       "price    50242.0  3159.144222  2763.857194  326.00  911.00  2155.00  4668.00   \n",
       "x        50242.0     5.582681     0.991198    3.73    4.67     5.59     6.43   \n",
       "y        50242.0     5.585400     0.983783    3.68    4.68     5.58     6.42   \n",
       "z        50242.0     3.448151     0.613879    1.41    2.88     3.43     3.98   \n",
       "\n",
       "              max  \n",
       "carat        2.77  \n",
       "cut          4.00  \n",
       "color        6.00  \n",
       "clarity      7.00  \n",
       "depth       79.00  \n",
       "table       79.00  \n",
       "price    11888.00  \n",
       "x            8.93  \n",
       "y            8.83  \n",
       "z            5.60  "
      ]
     },
     "execution_count": 15,
     "metadata": {},
     "output_type": "execute_result"
    }
   ],
   "source": [
    "df.describe().T"
   ]
  },
  {
   "cell_type": "code",
   "execution_count": 30,
   "metadata": {},
   "outputs": [],
   "source": [
    "df_resultados.to_csv(\"../ficheros/resultados_diamond.csv\")"
   ]
  },
  {
   "attachments": {},
   "cell_type": "markdown",
   "metadata": {},
   "source": [
    "Despues de valorar los resultados que hemos obtenido, vamos a probar a eliminar *x*, *y* y *z* para a ver si asi mejoran"
   ]
  },
  {
   "cell_type": "code",
   "execution_count": 16,
   "metadata": {},
   "outputs": [
    {
     "data": {
      "text/html": [
       "<div>\n",
       "<style scoped>\n",
       "    .dataframe tbody tr th:only-of-type {\n",
       "        vertical-align: middle;\n",
       "    }\n",
       "\n",
       "    .dataframe tbody tr th {\n",
       "        vertical-align: top;\n",
       "    }\n",
       "\n",
       "    .dataframe thead th {\n",
       "        text-align: right;\n",
       "    }\n",
       "</style>\n",
       "<table border=\"1\" class=\"dataframe\">\n",
       "  <thead>\n",
       "    <tr style=\"text-align: right;\">\n",
       "      <th></th>\n",
       "      <th>carat</th>\n",
       "      <th>cut</th>\n",
       "      <th>color</th>\n",
       "      <th>clarity</th>\n",
       "      <th>depth</th>\n",
       "      <th>table</th>\n",
       "      <th>price</th>\n",
       "    </tr>\n",
       "  </thead>\n",
       "  <tbody>\n",
       "    <tr>\n",
       "      <th>0</th>\n",
       "      <td>0.23</td>\n",
       "      <td>4</td>\n",
       "      <td>5</td>\n",
       "      <td>1</td>\n",
       "      <td>61.5</td>\n",
       "      <td>55.0</td>\n",
       "      <td>326</td>\n",
       "    </tr>\n",
       "    <tr>\n",
       "      <th>1</th>\n",
       "      <td>0.21</td>\n",
       "      <td>3</td>\n",
       "      <td>5</td>\n",
       "      <td>2</td>\n",
       "      <td>59.8</td>\n",
       "      <td>61.0</td>\n",
       "      <td>326</td>\n",
       "    </tr>\n",
       "    <tr>\n",
       "      <th>2</th>\n",
       "      <td>0.23</td>\n",
       "      <td>1</td>\n",
       "      <td>5</td>\n",
       "      <td>4</td>\n",
       "      <td>56.9</td>\n",
       "      <td>65.0</td>\n",
       "      <td>327</td>\n",
       "    </tr>\n",
       "    <tr>\n",
       "      <th>3</th>\n",
       "      <td>0.29</td>\n",
       "      <td>3</td>\n",
       "      <td>1</td>\n",
       "      <td>3</td>\n",
       "      <td>62.4</td>\n",
       "      <td>58.0</td>\n",
       "      <td>334</td>\n",
       "    </tr>\n",
       "    <tr>\n",
       "      <th>4</th>\n",
       "      <td>0.31</td>\n",
       "      <td>1</td>\n",
       "      <td>0</td>\n",
       "      <td>1</td>\n",
       "      <td>63.3</td>\n",
       "      <td>58.0</td>\n",
       "      <td>335</td>\n",
       "    </tr>\n",
       "  </tbody>\n",
       "</table>\n",
       "</div>"
      ],
      "text/plain": [
       "   carat  cut  color  clarity  depth  table  price\n",
       "0   0.23    4      5        1   61.5   55.0    326\n",
       "1   0.21    3      5        2   59.8   61.0    326\n",
       "2   0.23    1      5        4   56.9   65.0    327\n",
       "3   0.29    3      1        3   62.4   58.0    334\n",
       "4   0.31    1      0        1   63.3   58.0    335"
      ]
     },
     "execution_count": 16,
     "metadata": {},
     "output_type": "execute_result"
    }
   ],
   "source": [
    "df2= df.drop(columns=[\"x\",\"y\",\"z\"], axis = 1) \n",
    "df2.head()"
   ]
  },
  {
   "cell_type": "code",
   "execution_count": 17,
   "metadata": {},
   "outputs": [],
   "source": [
    "X2 = df2.drop(\"price\", axis = 1)\n",
    "y2 = df2[\"price\"]"
   ]
  },
  {
   "cell_type": "code",
   "execution_count": 18,
   "metadata": {},
   "outputs": [],
   "source": [
    "x2_train, x2_test, y2_train, y2_test = train_test_split(X2, y2, test_size = 0.2, random_state = 42)"
   ]
  },
  {
   "cell_type": "code",
   "execution_count": 20,
   "metadata": {},
   "outputs": [],
   "source": [
    "lr2 = LinearRegression(n_jobs=-1)"
   ]
  },
  {
   "cell_type": "code",
   "execution_count": 21,
   "metadata": {},
   "outputs": [
    {
     "data": {
      "text/html": [
       "<style>#sk-container-id-2 {color: black;background-color: white;}#sk-container-id-2 pre{padding: 0;}#sk-container-id-2 div.sk-toggleable {background-color: white;}#sk-container-id-2 label.sk-toggleable__label {cursor: pointer;display: block;width: 100%;margin-bottom: 0;padding: 0.3em;box-sizing: border-box;text-align: center;}#sk-container-id-2 label.sk-toggleable__label-arrow:before {content: \"▸\";float: left;margin-right: 0.25em;color: #696969;}#sk-container-id-2 label.sk-toggleable__label-arrow:hover:before {color: black;}#sk-container-id-2 div.sk-estimator:hover label.sk-toggleable__label-arrow:before {color: black;}#sk-container-id-2 div.sk-toggleable__content {max-height: 0;max-width: 0;overflow: hidden;text-align: left;background-color: #f0f8ff;}#sk-container-id-2 div.sk-toggleable__content pre {margin: 0.2em;color: black;border-radius: 0.25em;background-color: #f0f8ff;}#sk-container-id-2 input.sk-toggleable__control:checked~div.sk-toggleable__content {max-height: 200px;max-width: 100%;overflow: auto;}#sk-container-id-2 input.sk-toggleable__control:checked~label.sk-toggleable__label-arrow:before {content: \"▾\";}#sk-container-id-2 div.sk-estimator input.sk-toggleable__control:checked~label.sk-toggleable__label {background-color: #d4ebff;}#sk-container-id-2 div.sk-label input.sk-toggleable__control:checked~label.sk-toggleable__label {background-color: #d4ebff;}#sk-container-id-2 input.sk-hidden--visually {border: 0;clip: rect(1px 1px 1px 1px);clip: rect(1px, 1px, 1px, 1px);height: 1px;margin: -1px;overflow: hidden;padding: 0;position: absolute;width: 1px;}#sk-container-id-2 div.sk-estimator {font-family: monospace;background-color: #f0f8ff;border: 1px dotted black;border-radius: 0.25em;box-sizing: border-box;margin-bottom: 0.5em;}#sk-container-id-2 div.sk-estimator:hover {background-color: #d4ebff;}#sk-container-id-2 div.sk-parallel-item::after {content: \"\";width: 100%;border-bottom: 1px solid gray;flex-grow: 1;}#sk-container-id-2 div.sk-label:hover label.sk-toggleable__label {background-color: #d4ebff;}#sk-container-id-2 div.sk-serial::before {content: \"\";position: absolute;border-left: 1px solid gray;box-sizing: border-box;top: 0;bottom: 0;left: 50%;z-index: 0;}#sk-container-id-2 div.sk-serial {display: flex;flex-direction: column;align-items: center;background-color: white;padding-right: 0.2em;padding-left: 0.2em;position: relative;}#sk-container-id-2 div.sk-item {position: relative;z-index: 1;}#sk-container-id-2 div.sk-parallel {display: flex;align-items: stretch;justify-content: center;background-color: white;position: relative;}#sk-container-id-2 div.sk-item::before, #sk-container-id-2 div.sk-parallel-item::before {content: \"\";position: absolute;border-left: 1px solid gray;box-sizing: border-box;top: 0;bottom: 0;left: 50%;z-index: -1;}#sk-container-id-2 div.sk-parallel-item {display: flex;flex-direction: column;z-index: 1;position: relative;background-color: white;}#sk-container-id-2 div.sk-parallel-item:first-child::after {align-self: flex-end;width: 50%;}#sk-container-id-2 div.sk-parallel-item:last-child::after {align-self: flex-start;width: 50%;}#sk-container-id-2 div.sk-parallel-item:only-child::after {width: 0;}#sk-container-id-2 div.sk-dashed-wrapped {border: 1px dashed gray;margin: 0 0.4em 0.5em 0.4em;box-sizing: border-box;padding-bottom: 0.4em;background-color: white;}#sk-container-id-2 div.sk-label label {font-family: monospace;font-weight: bold;display: inline-block;line-height: 1.2em;}#sk-container-id-2 div.sk-label-container {text-align: center;}#sk-container-id-2 div.sk-container {/* jupyter's `normalize.less` sets `[hidden] { display: none; }` but bootstrap.min.css set `[hidden] { display: none !important; }` so we also need the `!important` here to be able to override the default hidden behavior on the sphinx rendered scikit-learn.org. See: https://github.com/scikit-learn/scikit-learn/issues/21755 */display: inline-block !important;position: relative;}#sk-container-id-2 div.sk-text-repr-fallback {display: none;}</style><div id=\"sk-container-id-2\" class=\"sk-top-container\"><div class=\"sk-text-repr-fallback\"><pre>LinearRegression(n_jobs=-1)</pre><b>In a Jupyter environment, please rerun this cell to show the HTML representation or trust the notebook. <br />On GitHub, the HTML representation is unable to render, please try loading this page with nbviewer.org.</b></div><div class=\"sk-container\" hidden><div class=\"sk-item\"><div class=\"sk-estimator sk-toggleable\"><input class=\"sk-toggleable__control sk-hidden--visually\" id=\"sk-estimator-id-2\" type=\"checkbox\" checked><label for=\"sk-estimator-id-2\" class=\"sk-toggleable__label sk-toggleable__label-arrow\">LinearRegression</label><div class=\"sk-toggleable__content\"><pre>LinearRegression(n_jobs=-1)</pre></div></div></div></div></div>"
      ],
      "text/plain": [
       "LinearRegression(n_jobs=-1)"
      ]
     },
     "execution_count": 21,
     "metadata": {},
     "output_type": "execute_result"
    }
   ],
   "source": [
    "lr2.fit(x2_train, y2_train)"
   ]
  },
  {
   "cell_type": "code",
   "execution_count": 22,
   "metadata": {},
   "outputs": [],
   "source": [
    "y2_predict_train = lr2.predict(x2_train) \n",
    "y2_predict_test = lr2.predict(x2_test)"
   ]
  },
  {
   "cell_type": "code",
   "execution_count": 23,
   "metadata": {},
   "outputs": [
    {
     "data": {
      "text/html": [
       "<div>\n",
       "<style scoped>\n",
       "    .dataframe tbody tr th:only-of-type {\n",
       "        vertical-align: middle;\n",
       "    }\n",
       "\n",
       "    .dataframe tbody tr th {\n",
       "        vertical-align: top;\n",
       "    }\n",
       "\n",
       "    .dataframe thead th {\n",
       "        text-align: right;\n",
       "    }\n",
       "</style>\n",
       "<table border=\"1\" class=\"dataframe\">\n",
       "  <thead>\n",
       "    <tr style=\"text-align: right;\">\n",
       "      <th></th>\n",
       "      <th>Real</th>\n",
       "      <th>Predicted</th>\n",
       "      <th>Set</th>\n",
       "    </tr>\n",
       "  </thead>\n",
       "  <tbody>\n",
       "    <tr>\n",
       "      <th>31266</th>\n",
       "      <td>880</td>\n",
       "      <td>438.494453</td>\n",
       "      <td>Train</td>\n",
       "    </tr>\n",
       "    <tr>\n",
       "      <th>20273</th>\n",
       "      <td>8736</td>\n",
       "      <td>7790.407671</td>\n",
       "      <td>Train</td>\n",
       "    </tr>\n",
       "    <tr>\n",
       "      <th>17102</th>\n",
       "      <td>6848</td>\n",
       "      <td>6542.495183</td>\n",
       "      <td>Train</td>\n",
       "    </tr>\n",
       "    <tr>\n",
       "      <th>45495</th>\n",
       "      <td>2075</td>\n",
       "      <td>2332.983763</td>\n",
       "      <td>Train</td>\n",
       "    </tr>\n",
       "    <tr>\n",
       "      <th>16966</th>\n",
       "      <td>6793</td>\n",
       "      <td>6392.229329</td>\n",
       "      <td>Train</td>\n",
       "    </tr>\n",
       "  </tbody>\n",
       "</table>\n",
       "</div>"
      ],
      "text/plain": [
       "       Real    Predicted    Set\n",
       "31266   880   438.494453  Train\n",
       "20273  8736  7790.407671  Train\n",
       "17102  6848  6542.495183  Train\n",
       "45495  2075  2332.983763  Train\n",
       "16966  6793  6392.229329  Train"
      ]
     },
     "execution_count": 23,
     "metadata": {},
     "output_type": "execute_result"
    }
   ],
   "source": [
    "train_df2 = pd.DataFrame({'Real': y2_train, 'Predicted': y2_predict_train, 'Set': ['Train']*len(y2_train)})\n",
    "test_df2  = pd.DataFrame({'Real': y2_test,  'Predicted': y2_predict_test,  'Set': ['Test']*len(y2_test)})\n",
    "resultados2 = pd.concat([train_df2,test_df2], axis = 0)\n",
    "resultados2.head()"
   ]
  },
  {
   "cell_type": "code",
   "execution_count": 24,
   "metadata": {},
   "outputs": [
    {
     "data": {
      "text/html": [
       "<div>\n",
       "<style scoped>\n",
       "    .dataframe tbody tr th:only-of-type {\n",
       "        vertical-align: middle;\n",
       "    }\n",
       "\n",
       "    .dataframe tbody tr th {\n",
       "        vertical-align: top;\n",
       "    }\n",
       "\n",
       "    .dataframe thead th {\n",
       "        text-align: right;\n",
       "    }\n",
       "</style>\n",
       "<table border=\"1\" class=\"dataframe\">\n",
       "  <thead>\n",
       "    <tr style=\"text-align: right;\">\n",
       "      <th></th>\n",
       "      <th>Real</th>\n",
       "      <th>Predicted</th>\n",
       "      <th>Set</th>\n",
       "      <th>residuos</th>\n",
       "    </tr>\n",
       "  </thead>\n",
       "  <tbody>\n",
       "    <tr>\n",
       "      <th>31266</th>\n",
       "      <td>880</td>\n",
       "      <td>438.494453</td>\n",
       "      <td>Train</td>\n",
       "      <td>441.505547</td>\n",
       "    </tr>\n",
       "    <tr>\n",
       "      <th>20273</th>\n",
       "      <td>8736</td>\n",
       "      <td>7790.407671</td>\n",
       "      <td>Train</td>\n",
       "      <td>945.592329</td>\n",
       "    </tr>\n",
       "    <tr>\n",
       "      <th>17102</th>\n",
       "      <td>6848</td>\n",
       "      <td>6542.495183</td>\n",
       "      <td>Train</td>\n",
       "      <td>305.504817</td>\n",
       "    </tr>\n",
       "    <tr>\n",
       "      <th>45495</th>\n",
       "      <td>2075</td>\n",
       "      <td>2332.983763</td>\n",
       "      <td>Train</td>\n",
       "      <td>-257.983763</td>\n",
       "    </tr>\n",
       "    <tr>\n",
       "      <th>16966</th>\n",
       "      <td>6793</td>\n",
       "      <td>6392.229329</td>\n",
       "      <td>Train</td>\n",
       "      <td>400.770671</td>\n",
       "    </tr>\n",
       "  </tbody>\n",
       "</table>\n",
       "</div>"
      ],
      "text/plain": [
       "       Real    Predicted    Set    residuos\n",
       "31266   880   438.494453  Train  441.505547\n",
       "20273  8736  7790.407671  Train  945.592329\n",
       "17102  6848  6542.495183  Train  305.504817\n",
       "45495  2075  2332.983763  Train -257.983763\n",
       "16966  6793  6392.229329  Train  400.770671"
      ]
     },
     "execution_count": 24,
     "metadata": {},
     "output_type": "execute_result"
    }
   ],
   "source": [
    "resultados2['residuos'] = resultados2['Real'] - resultados2['Predicted']\n",
    "resultados2.head()"
   ]
  },
  {
   "cell_type": "code",
   "execution_count": 25,
   "metadata": {},
   "outputs": [
    {
     "name": "stdout",
     "output_type": "stream",
     "text": [
      "Para el conjunto train:---------------\n",
      "El valor de r2 score es  0.903946762768669\n",
      "El MAE es 608.3043683184608\n",
      "El MSE es 734721.9682189134\n",
      "EL RMSE es  857.1592432091679\n",
      "Para el conjunto test:---------------\n",
      "El valor de r2 score es  0.9048722875785076\n",
      "El MAE es 605.6131770981276\n",
      "El MSE es 722716.0930479125\n",
      "EL RMSE es  850.1271040543952\n"
     ]
    }
   ],
   "source": [
    "print('Para el conjunto train:---------------')\n",
    "print('El valor de r2 score es ',r2_score(y2_train,y2_predict_train))\n",
    "print('El MAE es',mean_absolute_error(y2_train,y2_predict_train))\n",
    "print('El MSE es',mean_squared_error(y2_train,y2_predict_train))\n",
    "print('EL RMSE es ',np.sqrt(mean_squared_error(y2_train,y2_predict_train)))\n",
    "\n",
    "\n",
    "# Para el conjunto de test las métricas han sido\n",
    "print('Para el conjunto test:---------------')\n",
    "print('El valor de r2 score es ',r2_score(y2_test,y2_predict_test))\n",
    "print('El MAE es',mean_absolute_error(y2_test,y2_predict_test))\n",
    "print('El MSE es',mean_squared_error(y2_test,y2_predict_test))\n",
    "print('EL RMSE es ',np.sqrt(mean_squared_error(y2_test,y2_predict_test)))"
   ]
  },
  {
   "attachments": {},
   "cell_type": "markdown",
   "metadata": {},
   "source": [
    "No hay practicamente diferencia con la anterior prueba"
   ]
  },
  {
   "attachments": {},
   "cell_type": "markdown",
   "metadata": {},
   "source": [
    "Probamos ahora con los datos estandarizados"
   ]
  },
  {
   "cell_type": "code",
   "execution_count": 26,
   "metadata": {},
   "outputs": [
    {
     "data": {
      "text/html": [
       "<div>\n",
       "<style scoped>\n",
       "    .dataframe tbody tr th:only-of-type {\n",
       "        vertical-align: middle;\n",
       "    }\n",
       "\n",
       "    .dataframe tbody tr th {\n",
       "        vertical-align: top;\n",
       "    }\n",
       "\n",
       "    .dataframe thead th {\n",
       "        text-align: right;\n",
       "    }\n",
       "</style>\n",
       "<table border=\"1\" class=\"dataframe\">\n",
       "  <thead>\n",
       "    <tr style=\"text-align: right;\">\n",
       "      <th></th>\n",
       "      <th>carat</th>\n",
       "      <th>cut</th>\n",
       "      <th>color</th>\n",
       "      <th>clarity</th>\n",
       "      <th>depth</th>\n",
       "      <th>table</th>\n",
       "      <th>price</th>\n",
       "      <th>x</th>\n",
       "      <th>y</th>\n",
       "      <th>z</th>\n",
       "    </tr>\n",
       "  </thead>\n",
       "  <tbody>\n",
       "    <tr>\n",
       "      <th>0</th>\n",
       "      <td>-0.746032</td>\n",
       "      <td>4</td>\n",
       "      <td>5</td>\n",
       "      <td>1</td>\n",
       "      <td>-0.214286</td>\n",
       "      <td>-0.666667</td>\n",
       "      <td>326</td>\n",
       "      <td>-0.931818</td>\n",
       "      <td>-0.919540</td>\n",
       "      <td>-0.909091</td>\n",
       "    </tr>\n",
       "    <tr>\n",
       "      <th>1</th>\n",
       "      <td>-0.777778</td>\n",
       "      <td>3</td>\n",
       "      <td>5</td>\n",
       "      <td>2</td>\n",
       "      <td>-1.428571</td>\n",
       "      <td>1.333333</td>\n",
       "      <td>326</td>\n",
       "      <td>-0.965909</td>\n",
       "      <td>-1.000000</td>\n",
       "      <td>-1.018182</td>\n",
       "    </tr>\n",
       "    <tr>\n",
       "      <th>2</th>\n",
       "      <td>-0.746032</td>\n",
       "      <td>1</td>\n",
       "      <td>5</td>\n",
       "      <td>4</td>\n",
       "      <td>-3.500000</td>\n",
       "      <td>2.666667</td>\n",
       "      <td>327</td>\n",
       "      <td>-0.875000</td>\n",
       "      <td>-0.867816</td>\n",
       "      <td>-1.018182</td>\n",
       "    </tr>\n",
       "    <tr>\n",
       "      <th>3</th>\n",
       "      <td>-0.650794</td>\n",
       "      <td>3</td>\n",
       "      <td>1</td>\n",
       "      <td>3</td>\n",
       "      <td>0.428571</td>\n",
       "      <td>0.333333</td>\n",
       "      <td>334</td>\n",
       "      <td>-0.789773</td>\n",
       "      <td>-0.775862</td>\n",
       "      <td>-0.727273</td>\n",
       "    </tr>\n",
       "    <tr>\n",
       "      <th>4</th>\n",
       "      <td>-0.619048</td>\n",
       "      <td>1</td>\n",
       "      <td>0</td>\n",
       "      <td>1</td>\n",
       "      <td>1.071429</td>\n",
       "      <td>0.333333</td>\n",
       "      <td>335</td>\n",
       "      <td>-0.710227</td>\n",
       "      <td>-0.706897</td>\n",
       "      <td>-0.618182</td>\n",
       "    </tr>\n",
       "  </tbody>\n",
       "</table>\n",
       "</div>"
      ],
      "text/plain": [
       "      carat  cut  color  clarity     depth     table  price         x  \\\n",
       "0 -0.746032    4      5        1 -0.214286 -0.666667    326 -0.931818   \n",
       "1 -0.777778    3      5        2 -1.428571  1.333333    326 -0.965909   \n",
       "2 -0.746032    1      5        4 -3.500000  2.666667    327 -0.875000   \n",
       "3 -0.650794    3      1        3  0.428571  0.333333    334 -0.789773   \n",
       "4 -0.619048    1      0        1  1.071429  0.333333    335 -0.710227   \n",
       "\n",
       "          y         z  \n",
       "0 -0.919540 -0.909091  \n",
       "1 -1.000000 -1.018182  \n",
       "2 -0.867816 -1.018182  \n",
       "3 -0.775862 -0.727273  \n",
       "4 -0.706897 -0.618182  "
      ]
     },
     "execution_count": 26,
     "metadata": {},
     "output_type": "execute_result"
    }
   ],
   "source": [
    "df3 = pd.read_csv(\"../ficheros/diamons_estand_enconding.csv\", index_col = 0)\n",
    "df3.head()"
   ]
  },
  {
   "cell_type": "code",
   "execution_count": 27,
   "metadata": {},
   "outputs": [],
   "source": [
    "X3 = df3.drop(\"price\", axis = 1)\n",
    "y3 = df3[\"price\"]"
   ]
  },
  {
   "cell_type": "code",
   "execution_count": 28,
   "metadata": {},
   "outputs": [],
   "source": [
    "x3_train, x3_test, y3_train, y3_test = train_test_split(X3, y3, test_size = 0.2, random_state = 42)"
   ]
  },
  {
   "cell_type": "code",
   "execution_count": 29,
   "metadata": {},
   "outputs": [],
   "source": [
    "lr3 = LinearRegression(n_jobs=-1)"
   ]
  },
  {
   "cell_type": "code",
   "execution_count": 30,
   "metadata": {},
   "outputs": [
    {
     "data": {
      "text/html": [
       "<style>#sk-container-id-3 {color: black;background-color: white;}#sk-container-id-3 pre{padding: 0;}#sk-container-id-3 div.sk-toggleable {background-color: white;}#sk-container-id-3 label.sk-toggleable__label {cursor: pointer;display: block;width: 100%;margin-bottom: 0;padding: 0.3em;box-sizing: border-box;text-align: center;}#sk-container-id-3 label.sk-toggleable__label-arrow:before {content: \"▸\";float: left;margin-right: 0.25em;color: #696969;}#sk-container-id-3 label.sk-toggleable__label-arrow:hover:before {color: black;}#sk-container-id-3 div.sk-estimator:hover label.sk-toggleable__label-arrow:before {color: black;}#sk-container-id-3 div.sk-toggleable__content {max-height: 0;max-width: 0;overflow: hidden;text-align: left;background-color: #f0f8ff;}#sk-container-id-3 div.sk-toggleable__content pre {margin: 0.2em;color: black;border-radius: 0.25em;background-color: #f0f8ff;}#sk-container-id-3 input.sk-toggleable__control:checked~div.sk-toggleable__content {max-height: 200px;max-width: 100%;overflow: auto;}#sk-container-id-3 input.sk-toggleable__control:checked~label.sk-toggleable__label-arrow:before {content: \"▾\";}#sk-container-id-3 div.sk-estimator input.sk-toggleable__control:checked~label.sk-toggleable__label {background-color: #d4ebff;}#sk-container-id-3 div.sk-label input.sk-toggleable__control:checked~label.sk-toggleable__label {background-color: #d4ebff;}#sk-container-id-3 input.sk-hidden--visually {border: 0;clip: rect(1px 1px 1px 1px);clip: rect(1px, 1px, 1px, 1px);height: 1px;margin: -1px;overflow: hidden;padding: 0;position: absolute;width: 1px;}#sk-container-id-3 div.sk-estimator {font-family: monospace;background-color: #f0f8ff;border: 1px dotted black;border-radius: 0.25em;box-sizing: border-box;margin-bottom: 0.5em;}#sk-container-id-3 div.sk-estimator:hover {background-color: #d4ebff;}#sk-container-id-3 div.sk-parallel-item::after {content: \"\";width: 100%;border-bottom: 1px solid gray;flex-grow: 1;}#sk-container-id-3 div.sk-label:hover label.sk-toggleable__label {background-color: #d4ebff;}#sk-container-id-3 div.sk-serial::before {content: \"\";position: absolute;border-left: 1px solid gray;box-sizing: border-box;top: 0;bottom: 0;left: 50%;z-index: 0;}#sk-container-id-3 div.sk-serial {display: flex;flex-direction: column;align-items: center;background-color: white;padding-right: 0.2em;padding-left: 0.2em;position: relative;}#sk-container-id-3 div.sk-item {position: relative;z-index: 1;}#sk-container-id-3 div.sk-parallel {display: flex;align-items: stretch;justify-content: center;background-color: white;position: relative;}#sk-container-id-3 div.sk-item::before, #sk-container-id-3 div.sk-parallel-item::before {content: \"\";position: absolute;border-left: 1px solid gray;box-sizing: border-box;top: 0;bottom: 0;left: 50%;z-index: -1;}#sk-container-id-3 div.sk-parallel-item {display: flex;flex-direction: column;z-index: 1;position: relative;background-color: white;}#sk-container-id-3 div.sk-parallel-item:first-child::after {align-self: flex-end;width: 50%;}#sk-container-id-3 div.sk-parallel-item:last-child::after {align-self: flex-start;width: 50%;}#sk-container-id-3 div.sk-parallel-item:only-child::after {width: 0;}#sk-container-id-3 div.sk-dashed-wrapped {border: 1px dashed gray;margin: 0 0.4em 0.5em 0.4em;box-sizing: border-box;padding-bottom: 0.4em;background-color: white;}#sk-container-id-3 div.sk-label label {font-family: monospace;font-weight: bold;display: inline-block;line-height: 1.2em;}#sk-container-id-3 div.sk-label-container {text-align: center;}#sk-container-id-3 div.sk-container {/* jupyter's `normalize.less` sets `[hidden] { display: none; }` but bootstrap.min.css set `[hidden] { display: none !important; }` so we also need the `!important` here to be able to override the default hidden behavior on the sphinx rendered scikit-learn.org. See: https://github.com/scikit-learn/scikit-learn/issues/21755 */display: inline-block !important;position: relative;}#sk-container-id-3 div.sk-text-repr-fallback {display: none;}</style><div id=\"sk-container-id-3\" class=\"sk-top-container\"><div class=\"sk-text-repr-fallback\"><pre>LinearRegression(n_jobs=-1)</pre><b>In a Jupyter environment, please rerun this cell to show the HTML representation or trust the notebook. <br />On GitHub, the HTML representation is unable to render, please try loading this page with nbviewer.org.</b></div><div class=\"sk-container\" hidden><div class=\"sk-item\"><div class=\"sk-estimator sk-toggleable\"><input class=\"sk-toggleable__control sk-hidden--visually\" id=\"sk-estimator-id-3\" type=\"checkbox\" checked><label for=\"sk-estimator-id-3\" class=\"sk-toggleable__label sk-toggleable__label-arrow\">LinearRegression</label><div class=\"sk-toggleable__content\"><pre>LinearRegression(n_jobs=-1)</pre></div></div></div></div></div>"
      ],
      "text/plain": [
       "LinearRegression(n_jobs=-1)"
      ]
     },
     "execution_count": 30,
     "metadata": {},
     "output_type": "execute_result"
    }
   ],
   "source": [
    "lr3.fit(x3_train, y3_train)"
   ]
  },
  {
   "cell_type": "code",
   "execution_count": 31,
   "metadata": {},
   "outputs": [],
   "source": [
    "y3_predict_train = lr3.predict(x3_train) \n",
    "y3_predict_test = lr3.predict(x3_test)"
   ]
  },
  {
   "cell_type": "code",
   "execution_count": 32,
   "metadata": {},
   "outputs": [
    {
     "data": {
      "text/html": [
       "<div>\n",
       "<style scoped>\n",
       "    .dataframe tbody tr th:only-of-type {\n",
       "        vertical-align: middle;\n",
       "    }\n",
       "\n",
       "    .dataframe tbody tr th {\n",
       "        vertical-align: top;\n",
       "    }\n",
       "\n",
       "    .dataframe thead th {\n",
       "        text-align: right;\n",
       "    }\n",
       "</style>\n",
       "<table border=\"1\" class=\"dataframe\">\n",
       "  <thead>\n",
       "    <tr style=\"text-align: right;\">\n",
       "      <th></th>\n",
       "      <th>Real</th>\n",
       "      <th>Predicted</th>\n",
       "      <th>Set</th>\n",
       "    </tr>\n",
       "  </thead>\n",
       "  <tbody>\n",
       "    <tr>\n",
       "      <th>31266</th>\n",
       "      <td>880</td>\n",
       "      <td>477.102597</td>\n",
       "      <td>Train</td>\n",
       "    </tr>\n",
       "    <tr>\n",
       "      <th>20273</th>\n",
       "      <td>8736</td>\n",
       "      <td>7692.039067</td>\n",
       "      <td>Train</td>\n",
       "    </tr>\n",
       "    <tr>\n",
       "      <th>17102</th>\n",
       "      <td>6848</td>\n",
       "      <td>6605.440777</td>\n",
       "      <td>Train</td>\n",
       "    </tr>\n",
       "    <tr>\n",
       "      <th>45495</th>\n",
       "      <td>2075</td>\n",
       "      <td>2259.005743</td>\n",
       "      <td>Train</td>\n",
       "    </tr>\n",
       "    <tr>\n",
       "      <th>16966</th>\n",
       "      <td>6793</td>\n",
       "      <td>6420.073325</td>\n",
       "      <td>Train</td>\n",
       "    </tr>\n",
       "  </tbody>\n",
       "</table>\n",
       "</div>"
      ],
      "text/plain": [
       "       Real    Predicted    Set\n",
       "31266   880   477.102597  Train\n",
       "20273  8736  7692.039067  Train\n",
       "17102  6848  6605.440777  Train\n",
       "45495  2075  2259.005743  Train\n",
       "16966  6793  6420.073325  Train"
      ]
     },
     "execution_count": 32,
     "metadata": {},
     "output_type": "execute_result"
    }
   ],
   "source": [
    "train_df3 = pd.DataFrame({'Real': y3_train, 'Predicted': y3_predict_train, 'Set': ['Train']*len(y3_train)})\n",
    "test_df3  = pd.DataFrame({'Real': y3_test,  'Predicted': y3_predict_test,  'Set': ['Test']*len(y3_test)})\n",
    "resultados3 = pd.concat([train_df3,test_df3], axis = 0)\n",
    "resultados3.head()"
   ]
  },
  {
   "cell_type": "code",
   "execution_count": 33,
   "metadata": {},
   "outputs": [
    {
     "data": {
      "text/html": [
       "<div>\n",
       "<style scoped>\n",
       "    .dataframe tbody tr th:only-of-type {\n",
       "        vertical-align: middle;\n",
       "    }\n",
       "\n",
       "    .dataframe tbody tr th {\n",
       "        vertical-align: top;\n",
       "    }\n",
       "\n",
       "    .dataframe thead th {\n",
       "        text-align: right;\n",
       "    }\n",
       "</style>\n",
       "<table border=\"1\" class=\"dataframe\">\n",
       "  <thead>\n",
       "    <tr style=\"text-align: right;\">\n",
       "      <th></th>\n",
       "      <th>Real</th>\n",
       "      <th>Predicted</th>\n",
       "      <th>Set</th>\n",
       "      <th>residuos</th>\n",
       "    </tr>\n",
       "  </thead>\n",
       "  <tbody>\n",
       "    <tr>\n",
       "      <th>31266</th>\n",
       "      <td>880</td>\n",
       "      <td>477.102597</td>\n",
       "      <td>Train</td>\n",
       "      <td>402.897403</td>\n",
       "    </tr>\n",
       "    <tr>\n",
       "      <th>20273</th>\n",
       "      <td>8736</td>\n",
       "      <td>7692.039067</td>\n",
       "      <td>Train</td>\n",
       "      <td>1043.960933</td>\n",
       "    </tr>\n",
       "    <tr>\n",
       "      <th>17102</th>\n",
       "      <td>6848</td>\n",
       "      <td>6605.440777</td>\n",
       "      <td>Train</td>\n",
       "      <td>242.559223</td>\n",
       "    </tr>\n",
       "    <tr>\n",
       "      <th>45495</th>\n",
       "      <td>2075</td>\n",
       "      <td>2259.005743</td>\n",
       "      <td>Train</td>\n",
       "      <td>-184.005743</td>\n",
       "    </tr>\n",
       "    <tr>\n",
       "      <th>16966</th>\n",
       "      <td>6793</td>\n",
       "      <td>6420.073325</td>\n",
       "      <td>Train</td>\n",
       "      <td>372.926675</td>\n",
       "    </tr>\n",
       "  </tbody>\n",
       "</table>\n",
       "</div>"
      ],
      "text/plain": [
       "       Real    Predicted    Set     residuos\n",
       "31266   880   477.102597  Train   402.897403\n",
       "20273  8736  7692.039067  Train  1043.960933\n",
       "17102  6848  6605.440777  Train   242.559223\n",
       "45495  2075  2259.005743  Train  -184.005743\n",
       "16966  6793  6420.073325  Train   372.926675"
      ]
     },
     "execution_count": 33,
     "metadata": {},
     "output_type": "execute_result"
    }
   ],
   "source": [
    "resultados3['residuos'] = resultados3['Real'] - resultados3['Predicted']\n",
    "resultados3.head()"
   ]
  },
  {
   "cell_type": "code",
   "execution_count": 34,
   "metadata": {},
   "outputs": [
    {
     "name": "stdout",
     "output_type": "stream",
     "text": [
      "Para el conjunto train:---------------\n",
      "El valor de r2 score es  0.9055440051154418\n",
      "El MAE es 592.6581273092426\n",
      "El MSE es 722504.482639358\n",
      "EL RMSE es  850.0026368425912\n",
      "Para el conjunto test:---------------\n",
      "El valor de r2 score es  0.9061201734641039\n",
      "El MAE es 590.9140627651348\n",
      "El MSE es 713235.4991300039\n",
      "EL RMSE es  844.5327105151131\n"
     ]
    }
   ],
   "source": [
    "print('Para el conjunto train:---------------')\n",
    "print('El valor de r2 score es ',r2_score(y3_train,y3_predict_train))\n",
    "print('El MAE es',mean_absolute_error(y3_train,y3_predict_train))\n",
    "print('El MSE es',mean_squared_error(y3_train,y3_predict_train))\n",
    "print('EL RMSE es ',np.sqrt(mean_squared_error(y3_train,y3_predict_train)))\n",
    "\n",
    "\n",
    "# Para el conjunto de test las métricas han sido\n",
    "print('Para el conjunto test:---------------')\n",
    "print('El valor de r2 score es ',r2_score(y3_test,y3_predict_test))\n",
    "print('El MAE es',mean_absolute_error(y3_test,y3_predict_test))\n",
    "print('El MSE es',mean_squared_error(y3_test,y3_predict_test))\n",
    "print('EL RMSE es ',np.sqrt(mean_squared_error(y3_test,y3_predict_test)))"
   ]
  },
  {
   "cell_type": "code",
   "execution_count": 35,
   "metadata": {},
   "outputs": [
    {
     "data": {
      "text/html": [
       "<div>\n",
       "<style scoped>\n",
       "    .dataframe tbody tr th:only-of-type {\n",
       "        vertical-align: middle;\n",
       "    }\n",
       "\n",
       "    .dataframe tbody tr th {\n",
       "        vertical-align: top;\n",
       "    }\n",
       "\n",
       "    .dataframe thead th {\n",
       "        text-align: right;\n",
       "    }\n",
       "</style>\n",
       "<table border=\"1\" class=\"dataframe\">\n",
       "  <thead>\n",
       "    <tr style=\"text-align: right;\">\n",
       "      <th></th>\n",
       "      <th>MAE</th>\n",
       "      <th>MSE</th>\n",
       "      <th>RMSE</th>\n",
       "      <th>R2</th>\n",
       "      <th>set</th>\n",
       "      <th>modelo</th>\n",
       "    </tr>\n",
       "  </thead>\n",
       "  <tbody>\n",
       "    <tr>\n",
       "      <th>0</th>\n",
       "      <td>590.914063</td>\n",
       "      <td>713235.499130</td>\n",
       "      <td>844.532711</td>\n",
       "      <td>0.906120</td>\n",
       "      <td>test</td>\n",
       "      <td>Linear Regresion Estand</td>\n",
       "    </tr>\n",
       "    <tr>\n",
       "      <th>1</th>\n",
       "      <td>592.658127</td>\n",
       "      <td>722504.482639</td>\n",
       "      <td>850.002637</td>\n",
       "      <td>0.905544</td>\n",
       "      <td>train</td>\n",
       "      <td>Linear Regression Estand</td>\n",
       "    </tr>\n",
       "  </tbody>\n",
       "</table>\n",
       "</div>"
      ],
      "text/plain": [
       "          MAE            MSE        RMSE        R2    set  \\\n",
       "0  590.914063  713235.499130  844.532711  0.906120   test   \n",
       "1  592.658127  722504.482639  850.002637  0.905544  train   \n",
       "\n",
       "                     modelo  \n",
       "0   Linear Regresion Estand  \n",
       "1  Linear Regression Estand  "
      ]
     },
     "execution_count": 35,
     "metadata": {},
     "output_type": "execute_result"
    }
   ],
   "source": [
    "# Lo convertimos en un dataframe para verlo mejor\n",
    "resultados_metricas3 = {'MAE': [mean_absolute_error(y3_test, y3_predict_test), mean_absolute_error(y3_train, y3_predict_train)],\n",
    "                'MSE': [mean_squared_error(y3_test, y3_predict_test), mean_squared_error(y3_train, y3_predict_train)],\n",
    "                'RMSE': [np.sqrt(mean_squared_error(y3_test, y3_predict_test)), np.sqrt(mean_squared_error(y3_train, y3_predict_train))],\n",
    "                'R2':  [r2_score(y3_test, y3_predict_test), r2_score(y3_train, y3_predict_train)],\n",
    "                 \"set\": [\"test\", \"train\"], \n",
    "                 \"modelo\": [\"Linear Regresion Estand\", \"Linear Regression Estand\"]}\n",
    "\n",
    "df_resultados3 = pd.DataFrame(resultados_metricas3)\n",
    "\n",
    "df_resultados3"
   ]
  },
  {
   "attachments": {},
   "cell_type": "markdown",
   "metadata": {},
   "source": [
    "Todas las pruebas realizadas nos dan los mismos resultados:\n",
    "- R2 alrededor de 0.9, que quiere decir que nuestro modelo puedo explicar un 90% de la variazion del valor de los diamantes\n",
    "- El resto de los valores RMSE nos parecen un poco alto, ya que es casi el 10 % del precio maximo "
   ]
  }
 ],
 "metadata": {
  "kernelspec": {
   "display_name": "base",
   "language": "python",
   "name": "python3"
  },
  "language_info": {
   "codemirror_mode": {
    "name": "ipython",
    "version": 3
   },
   "file_extension": ".py",
   "mimetype": "text/x-python",
   "name": "python",
   "nbconvert_exporter": "python",
   "pygments_lexer": "ipython3",
   "version": "3.9.7"
  },
  "orig_nbformat": 4,
  "vscode": {
   "interpreter": {
    "hash": "f25093244bacc7e62393c275f4a06a2027bcbdb9a67d7fe53680dbd2484adc03"
   }
  }
 },
 "nbformat": 4,
 "nbformat_minor": 2
}
