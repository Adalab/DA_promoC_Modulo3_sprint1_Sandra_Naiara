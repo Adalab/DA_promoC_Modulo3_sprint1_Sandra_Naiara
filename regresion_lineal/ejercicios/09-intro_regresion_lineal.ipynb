{
 "cells": [
  {
   "cell_type": "code",
   "execution_count": 1,
   "metadata": {},
   "outputs": [],
   "source": [
    "\n",
    "# Tratamiento de datos\n",
    "# -----------------------------------------------------------------------\n",
    "import numpy as np\n",
    "import pandas as pd\n",
    "\n",
    "# Gráficos\n",
    "# ------------------------------------------------------------------------------\n",
    "import matplotlib.pyplot as plt\n",
    "import seaborn as sns\n",
    "\n",
    "\n",
    "#  Modelado y evaluación\n",
    "# ------------------------------------------------------------------------------\n",
    "from sklearn.model_selection import train_test_split\n",
    "from sklearn.linear_model import LinearRegression\n",
    "\n",
    "\n",
    "#  Crossvalidation\n",
    "# ------------------------------------------------------------------------------\n",
    "from sklearn.model_selection import cross_val_score\n",
    "from sklearn.model_selection import cross_validate\n",
    "from sklearn import metrics"
   ]
  },
  {
   "cell_type": "code",
   "execution_count": 2,
   "metadata": {},
   "outputs": [
    {
     "data": {
      "text/html": [
       "<div>\n",
       "<style scoped>\n",
       "    .dataframe tbody tr th:only-of-type {\n",
       "        vertical-align: middle;\n",
       "    }\n",
       "\n",
       "    .dataframe tbody tr th {\n",
       "        vertical-align: top;\n",
       "    }\n",
       "\n",
       "    .dataframe thead th {\n",
       "        text-align: right;\n",
       "    }\n",
       "</style>\n",
       "<table border=\"1\" class=\"dataframe\">\n",
       "  <thead>\n",
       "    <tr style=\"text-align: right;\">\n",
       "      <th></th>\n",
       "      <th>carat</th>\n",
       "      <th>depth</th>\n",
       "      <th>table</th>\n",
       "      <th>price</th>\n",
       "      <th>x</th>\n",
       "      <th>y</th>\n",
       "      <th>z</th>\n",
       "      <th>cut_map</th>\n",
       "      <th>color_map</th>\n",
       "      <th>clarity_map</th>\n",
       "    </tr>\n",
       "  </thead>\n",
       "  <tbody>\n",
       "    <tr>\n",
       "      <th>1</th>\n",
       "      <td>0.23</td>\n",
       "      <td>61.5</td>\n",
       "      <td>55.0</td>\n",
       "      <td>326</td>\n",
       "      <td>3.95</td>\n",
       "      <td>3.98</td>\n",
       "      <td>2.43</td>\n",
       "      <td>4</td>\n",
       "      <td>5</td>\n",
       "      <td>1</td>\n",
       "    </tr>\n",
       "    <tr>\n",
       "      <th>2</th>\n",
       "      <td>0.21</td>\n",
       "      <td>59.8</td>\n",
       "      <td>61.0</td>\n",
       "      <td>326</td>\n",
       "      <td>3.89</td>\n",
       "      <td>3.84</td>\n",
       "      <td>2.31</td>\n",
       "      <td>3</td>\n",
       "      <td>5</td>\n",
       "      <td>2</td>\n",
       "    </tr>\n",
       "    <tr>\n",
       "      <th>3</th>\n",
       "      <td>0.23</td>\n",
       "      <td>56.9</td>\n",
       "      <td>65.0</td>\n",
       "      <td>327</td>\n",
       "      <td>4.05</td>\n",
       "      <td>4.07</td>\n",
       "      <td>2.31</td>\n",
       "      <td>1</td>\n",
       "      <td>5</td>\n",
       "      <td>4</td>\n",
       "    </tr>\n",
       "    <tr>\n",
       "      <th>4</th>\n",
       "      <td>0.29</td>\n",
       "      <td>62.4</td>\n",
       "      <td>58.0</td>\n",
       "      <td>334</td>\n",
       "      <td>4.20</td>\n",
       "      <td>4.23</td>\n",
       "      <td>2.63</td>\n",
       "      <td>3</td>\n",
       "      <td>1</td>\n",
       "      <td>3</td>\n",
       "    </tr>\n",
       "    <tr>\n",
       "      <th>5</th>\n",
       "      <td>0.31</td>\n",
       "      <td>63.3</td>\n",
       "      <td>58.0</td>\n",
       "      <td>335</td>\n",
       "      <td>4.34</td>\n",
       "      <td>4.35</td>\n",
       "      <td>2.75</td>\n",
       "      <td>1</td>\n",
       "      <td>0</td>\n",
       "      <td>1</td>\n",
       "    </tr>\n",
       "  </tbody>\n",
       "</table>\n",
       "</div>"
      ],
      "text/plain": [
       "   carat  depth  table  price     x     y     z  cut_map  color_map  \\\n",
       "1   0.23   61.5   55.0    326  3.95  3.98  2.43        4          5   \n",
       "2   0.21   59.8   61.0    326  3.89  3.84  2.31        3          5   \n",
       "3   0.23   56.9   65.0    327  4.05  4.07  2.31        1          5   \n",
       "4   0.29   62.4   58.0    334  4.20  4.23  2.63        3          1   \n",
       "5   0.31   63.3   58.0    335  4.34  4.35  2.75        1          0   \n",
       "\n",
       "   clarity_map  \n",
       "1            1  \n",
       "2            2  \n",
       "3            4  \n",
       "4            3  \n",
       "5            1  "
      ]
     },
     "execution_count": 2,
     "metadata": {},
     "output_type": "execute_result"
    }
   ],
   "source": [
    "df = pd.read_csv(\"../ficheros/diamons_enconding.csv\", index_col = 0)\n",
    "df.head()"
   ]
  },
  {
   "attachments": {},
   "cell_type": "markdown",
   "metadata": {},
   "source": [
    "El objetivo es realizar nuestro primer modelo de machine learning, probamos primero con los datos sin estandarizar y con el encoding"
   ]
  },
  {
   "cell_type": "code",
   "execution_count": 4,
   "metadata": {},
   "outputs": [],
   "source": [
    "#Comenzamos separando la \"X\" y la \"y\"\n",
    "X = df.drop(\"price\", axis = 1)\n",
    "y= df[\"price\"]"
   ]
  },
  {
   "cell_type": "code",
   "execution_count": 5,
   "metadata": {},
   "outputs": [
    {
     "data": {
      "text/html": [
       "<div>\n",
       "<style scoped>\n",
       "    .dataframe tbody tr th:only-of-type {\n",
       "        vertical-align: middle;\n",
       "    }\n",
       "\n",
       "    .dataframe tbody tr th {\n",
       "        vertical-align: top;\n",
       "    }\n",
       "\n",
       "    .dataframe thead th {\n",
       "        text-align: right;\n",
       "    }\n",
       "</style>\n",
       "<table border=\"1\" class=\"dataframe\">\n",
       "  <thead>\n",
       "    <tr style=\"text-align: right;\">\n",
       "      <th></th>\n",
       "      <th>carat</th>\n",
       "      <th>depth</th>\n",
       "      <th>table</th>\n",
       "      <th>x</th>\n",
       "      <th>y</th>\n",
       "      <th>z</th>\n",
       "      <th>cut_map</th>\n",
       "      <th>color_map</th>\n",
       "      <th>clarity_map</th>\n",
       "    </tr>\n",
       "  </thead>\n",
       "  <tbody>\n",
       "    <tr>\n",
       "      <th>1</th>\n",
       "      <td>0.23</td>\n",
       "      <td>61.5</td>\n",
       "      <td>55.0</td>\n",
       "      <td>3.95</td>\n",
       "      <td>3.98</td>\n",
       "      <td>2.43</td>\n",
       "      <td>4</td>\n",
       "      <td>5</td>\n",
       "      <td>1</td>\n",
       "    </tr>\n",
       "    <tr>\n",
       "      <th>2</th>\n",
       "      <td>0.21</td>\n",
       "      <td>59.8</td>\n",
       "      <td>61.0</td>\n",
       "      <td>3.89</td>\n",
       "      <td>3.84</td>\n",
       "      <td>2.31</td>\n",
       "      <td>3</td>\n",
       "      <td>5</td>\n",
       "      <td>2</td>\n",
       "    </tr>\n",
       "  </tbody>\n",
       "</table>\n",
       "</div>"
      ],
      "text/plain": [
       "   carat  depth  table     x     y     z  cut_map  color_map  clarity_map\n",
       "1   0.23   61.5   55.0  3.95  3.98  2.43        4          5            1\n",
       "2   0.21   59.8   61.0  3.89  3.84  2.31        3          5            2"
      ]
     },
     "execution_count": 5,
     "metadata": {},
     "output_type": "execute_result"
    }
   ],
   "source": [
    "X.head(2)"
   ]
  },
  {
   "cell_type": "code",
   "execution_count": 6,
   "metadata": {},
   "outputs": [
    {
     "data": {
      "text/plain": [
       "1    326\n",
       "2    326\n",
       "Name: price, dtype: int64"
      ]
     },
     "execution_count": 6,
     "metadata": {},
     "output_type": "execute_result"
    }
   ],
   "source": [
    "y.head(2)"
   ]
  },
  {
   "cell_type": "code",
   "execution_count": 7,
   "metadata": {},
   "outputs": [],
   "source": [
    "x_train, x_test, y_train, y_test = train_test_split(X, y, test_size = 0.2, random_state = 42)\n",
    "# Siguietne paso creamos el train y es test\n"
   ]
  },
  {
   "cell_type": "code",
   "execution_count": 8,
   "metadata": {},
   "outputs": [],
   "source": [
    "#vamos a ajustar nuestro modelo\n",
    "lr = LinearRegression(n_jobs=-1)"
   ]
  },
  {
   "cell_type": "code",
   "execution_count": 9,
   "metadata": {},
   "outputs": [
    {
     "data": {
      "text/plain": [
       "LinearRegression(n_jobs=-1)"
      ]
     },
     "execution_count": 9,
     "metadata": {},
     "output_type": "execute_result"
    }
   ],
   "source": [
    "#Vamos a fitear nuestro modelo \n",
    "#solamente con los datos de entrenamiento, para que aprenda el algoritmo\n",
    "lr.fit(x_train, y_train)"
   ]
  },
  {
   "cell_type": "code",
   "execution_count": 10,
   "metadata": {},
   "outputs": [],
   "source": [
    "#Ahora haremos las predicciones con el metodo predict\n",
    "y_predict_train = lr.predict(x_train) \n",
    "y_predict_test = lr.predict(x_test) \n"
   ]
  },
  {
   "cell_type": "code",
   "execution_count": 11,
   "metadata": {},
   "outputs": [
    {
     "data": {
      "text/html": [
       "<div>\n",
       "<style scoped>\n",
       "    .dataframe tbody tr th:only-of-type {\n",
       "        vertical-align: middle;\n",
       "    }\n",
       "\n",
       "    .dataframe tbody tr th {\n",
       "        vertical-align: top;\n",
       "    }\n",
       "\n",
       "    .dataframe thead th {\n",
       "        text-align: right;\n",
       "    }\n",
       "</style>\n",
       "<table border=\"1\" class=\"dataframe\">\n",
       "  <thead>\n",
       "    <tr style=\"text-align: right;\">\n",
       "      <th></th>\n",
       "      <th>Real</th>\n",
       "      <th>Predicted</th>\n",
       "      <th>Set</th>\n",
       "    </tr>\n",
       "  </thead>\n",
       "  <tbody>\n",
       "    <tr>\n",
       "      <th>34915</th>\n",
       "      <td>880</td>\n",
       "      <td>477.102597</td>\n",
       "      <td>Train</td>\n",
       "    </tr>\n",
       "    <tr>\n",
       "      <th>20331</th>\n",
       "      <td>8736</td>\n",
       "      <td>7692.039067</td>\n",
       "      <td>Train</td>\n",
       "    </tr>\n",
       "    <tr>\n",
       "      <th>17153</th>\n",
       "      <td>6848</td>\n",
       "      <td>6605.440777</td>\n",
       "      <td>Train</td>\n",
       "    </tr>\n",
       "    <tr>\n",
       "      <th>49187</th>\n",
       "      <td>2075</td>\n",
       "      <td>2259.005743</td>\n",
       "      <td>Train</td>\n",
       "    </tr>\n",
       "    <tr>\n",
       "      <th>17016</th>\n",
       "      <td>6793</td>\n",
       "      <td>6420.073325</td>\n",
       "      <td>Train</td>\n",
       "    </tr>\n",
       "  </tbody>\n",
       "</table>\n",
       "</div>"
      ],
      "text/plain": [
       "       Real    Predicted    Set\n",
       "34915   880   477.102597  Train\n",
       "20331  8736  7692.039067  Train\n",
       "17153  6848  6605.440777  Train\n",
       "49187  2075  2259.005743  Train\n",
       "17016  6793  6420.073325  Train"
      ]
     },
     "execution_count": 11,
     "metadata": {},
     "output_type": "execute_result"
    }
   ],
   "source": [
    "#Y ahora creamos los dataframes, comparando lo real con la predicción\n",
    "train_df = pd.DataFrame({'Real': y_train, 'Predicted': y_predict_train, 'Set': ['Train']*len(y_train)})\n",
    "test_df  = pd.DataFrame({'Real': y_test,  'Predicted': y_predict_test,  'Set': ['Test']*len(y_test)})\n",
    "resultados = pd.concat([train_df,test_df], axis = 0)\n",
    "resultados.head()"
   ]
  },
  {
   "cell_type": "code",
   "execution_count": 12,
   "metadata": {},
   "outputs": [
    {
     "data": {
      "text/html": [
       "<div>\n",
       "<style scoped>\n",
       "    .dataframe tbody tr th:only-of-type {\n",
       "        vertical-align: middle;\n",
       "    }\n",
       "\n",
       "    .dataframe tbody tr th {\n",
       "        vertical-align: top;\n",
       "    }\n",
       "\n",
       "    .dataframe thead th {\n",
       "        text-align: right;\n",
       "    }\n",
       "</style>\n",
       "<table border=\"1\" class=\"dataframe\">\n",
       "  <thead>\n",
       "    <tr style=\"text-align: right;\">\n",
       "      <th></th>\n",
       "      <th>Real</th>\n",
       "      <th>Predicted</th>\n",
       "      <th>Set</th>\n",
       "      <th>residuos</th>\n",
       "    </tr>\n",
       "  </thead>\n",
       "  <tbody>\n",
       "    <tr>\n",
       "      <th>34915</th>\n",
       "      <td>880</td>\n",
       "      <td>477.102597</td>\n",
       "      <td>Train</td>\n",
       "      <td>402.897403</td>\n",
       "    </tr>\n",
       "    <tr>\n",
       "      <th>20331</th>\n",
       "      <td>8736</td>\n",
       "      <td>7692.039067</td>\n",
       "      <td>Train</td>\n",
       "      <td>1043.960933</td>\n",
       "    </tr>\n",
       "    <tr>\n",
       "      <th>17153</th>\n",
       "      <td>6848</td>\n",
       "      <td>6605.440777</td>\n",
       "      <td>Train</td>\n",
       "      <td>242.559223</td>\n",
       "    </tr>\n",
       "    <tr>\n",
       "      <th>49187</th>\n",
       "      <td>2075</td>\n",
       "      <td>2259.005743</td>\n",
       "      <td>Train</td>\n",
       "      <td>-184.005743</td>\n",
       "    </tr>\n",
       "    <tr>\n",
       "      <th>17016</th>\n",
       "      <td>6793</td>\n",
       "      <td>6420.073325</td>\n",
       "      <td>Train</td>\n",
       "      <td>372.926675</td>\n",
       "    </tr>\n",
       "  </tbody>\n",
       "</table>\n",
       "</div>"
      ],
      "text/plain": [
       "       Real    Predicted    Set     residuos\n",
       "34915   880   477.102597  Train   402.897403\n",
       "20331  8736  7692.039067  Train  1043.960933\n",
       "17153  6848  6605.440777  Train   242.559223\n",
       "49187  2075  2259.005743  Train  -184.005743\n",
       "17016  6793  6420.073325  Train   372.926675"
      ]
     },
     "execution_count": 12,
     "metadata": {},
     "output_type": "execute_result"
    }
   ],
   "source": [
    "# vamos a por los resultados\n",
    "resultados['residuos'] = resultados['Real'] - resultados['Predicted']\n",
    "resultados.head()"
   ]
  },
  {
   "cell_type": "code",
   "execution_count": 13,
   "metadata": {},
   "outputs": [
    {
     "data": {
      "image/png": "[encoded data removed]",
      "text/plain": [
       "<Figure size 1440x1440 with 4 Axes>"
      ]
     },
     "metadata": {
      "needs_background": "light"
     },
     "output_type": "display_data"
    }
   ],
   "source": [
    "#Realizamos la gráficas para visualizar \n",
    "#la diferencia entre lo esperado y lo predicho\n",
    "fig, ax = plt.subplots(2,2,figsize=(20,20))\n",
    "\n",
    "\n",
    "\n",
    "sns.regplot(data = resultados[resultados['Set'] == \"Train\"], \n",
    "            x = \"Real\", \n",
    "            y = \"Predicted\", \n",
    "            ax = ax[0,0], \n",
    "            color = \"blue\",\n",
    "            line_kws = {\"color\": \"red\", \"alpha\": 0.7 })\n",
    "\n",
    "\n",
    "sns.regplot(data = resultados[resultados['Set'] == \"Test\"], \n",
    "            x = \"Real\",\n",
    "            y = \"Predicted\", \n",
    "            color = \"blue\",\n",
    "            line_kws = {\"color\": \"red\", \"alpha\": 0.7 }, \n",
    "            ax = ax[1,0])\n",
    "\n",
    "\n",
    "# ploteamos los residuos\n",
    "sns.histplot(resultados[resultados['Set'] == \"Train\"],\n",
    "             x=\"residuos\",\n",
    "             color =\"blue\",\n",
    "             kde=True, \n",
    "             ax = ax[0,1])\n",
    "\n",
    "\n",
    "sns.histplot(resultados[resultados['Set'] == \"Test\"],\n",
    "             x=\"residuos\",\n",
    "             color = \"blue\",\n",
    "             kde=True, \n",
    "             ax = ax[1,1])\n",
    "\n",
    "ax[0,0].set_title(\"Train reales vs predichos\", fontsize = 15, fontweight = \"bold\")\n",
    "ax[0,1].set_title(\"Train residuos\", fontsize = 15, fontweight = \"bold\")\n",
    "ax[1,0].set_title(\"Test reales vs predichos\", fontsize = 15, fontweight = \"bold\")\n",
    "ax[1,1].set_title(\"Test residuos\", fontsize = 15, fontweight = \"bold\");"
   ]
  },
  {
   "attachments": {},
   "cell_type": "markdown",
   "metadata": {},
   "source": [
    "Parece que para los valores más altos, sobre todo, comete bastantes errores"
   ]
  },
  {
   "cell_type": "code",
   "execution_count": 14,
   "metadata": {},
   "outputs": [
    {
     "data": {
      "text/html": [
       "<div>\n",
       "<style scoped>\n",
       "    .dataframe tbody tr th:only-of-type {\n",
       "        vertical-align: middle;\n",
       "    }\n",
       "\n",
       "    .dataframe tbody tr th {\n",
       "        vertical-align: top;\n",
       "    }\n",
       "\n",
       "    .dataframe thead th {\n",
       "        text-align: right;\n",
       "    }\n",
       "</style>\n",
       "<table border=\"1\" class=\"dataframe\">\n",
       "  <thead>\n",
       "    <tr style=\"text-align: right;\">\n",
       "      <th></th>\n",
       "      <th>fit_time</th>\n",
       "      <th>score_time</th>\n",
       "      <th>test_r2</th>\n",
       "      <th>test_neg_root_mean_squared_error</th>\n",
       "    </tr>\n",
       "  </thead>\n",
       "  <tbody>\n",
       "    <tr>\n",
       "      <th>0</th>\n",
       "      <td>0.020417</td>\n",
       "      <td>0.002658</td>\n",
       "      <td>0.270368</td>\n",
       "      <td>-750.089850</td>\n",
       "    </tr>\n",
       "    <tr>\n",
       "      <th>1</th>\n",
       "      <td>0.017514</td>\n",
       "      <td>0.003480</td>\n",
       "      <td>0.613264</td>\n",
       "      <td>-723.653609</td>\n",
       "    </tr>\n",
       "    <tr>\n",
       "      <th>2</th>\n",
       "      <td>0.014760</td>\n",
       "      <td>0.003170</td>\n",
       "      <td>0.699451</td>\n",
       "      <td>-792.087817</td>\n",
       "    </tr>\n",
       "    <tr>\n",
       "      <th>3</th>\n",
       "      <td>0.012194</td>\n",
       "      <td>0.002746</td>\n",
       "      <td>0.587253</td>\n",
       "      <td>-1348.532508</td>\n",
       "    </tr>\n",
       "    <tr>\n",
       "      <th>4</th>\n",
       "      <td>0.008472</td>\n",
       "      <td>0.002981</td>\n",
       "      <td>0.779252</td>\n",
       "      <td>-2144.662481</td>\n",
       "    </tr>\n",
       "    <tr>\n",
       "      <th>5</th>\n",
       "      <td>0.011768</td>\n",
       "      <td>0.003057</td>\n",
       "      <td>-29.964276</td>\n",
       "      <td>-567.578382</td>\n",
       "    </tr>\n",
       "    <tr>\n",
       "      <th>6</th>\n",
       "      <td>0.013346</td>\n",
       "      <td>0.005227</td>\n",
       "      <td>-15.330936</td>\n",
       "      <td>-621.296654</td>\n",
       "    </tr>\n",
       "    <tr>\n",
       "      <th>7</th>\n",
       "      <td>0.012230</td>\n",
       "      <td>0.002380</td>\n",
       "      <td>-5.595313</td>\n",
       "      <td>-630.216456</td>\n",
       "    </tr>\n",
       "    <tr>\n",
       "      <th>8</th>\n",
       "      <td>0.011402</td>\n",
       "      <td>0.002725</td>\n",
       "      <td>-0.659040</td>\n",
       "      <td>-541.903649</td>\n",
       "    </tr>\n",
       "    <tr>\n",
       "      <th>9</th>\n",
       "      <td>0.011537</td>\n",
       "      <td>0.004130</td>\n",
       "      <td>-0.151269</td>\n",
       "      <td>-618.981590</td>\n",
       "    </tr>\n",
       "  </tbody>\n",
       "</table>\n",
       "</div>"
      ],
      "text/plain": [
       "   fit_time  score_time    test_r2  test_neg_root_mean_squared_error\n",
       "0  0.020417    0.002658   0.270368                       -750.089850\n",
       "1  0.017514    0.003480   0.613264                       -723.653609\n",
       "2  0.014760    0.003170   0.699451                       -792.087817\n",
       "3  0.012194    0.002746   0.587253                      -1348.532508\n",
       "4  0.008472    0.002981   0.779252                      -2144.662481\n",
       "5  0.011768    0.003057 -29.964276                       -567.578382\n",
       "6  0.013346    0.005227 -15.330936                       -621.296654\n",
       "7  0.012230    0.002380  -5.595313                       -630.216456\n",
       "8  0.011402    0.002725  -0.659040                       -541.903649\n",
       "9  0.011537    0.004130  -0.151269                       -618.981590"
      ]
     },
     "execution_count": 14,
     "metadata": {},
     "output_type": "execute_result"
    }
   ],
   "source": [
    "cv_scores = cross_validate(\n",
    "                estimator = LinearRegression(),\n",
    "                X         = X,\n",
    "                y         = y,\n",
    "                scoring   = ('r2', 'neg_root_mean_squared_error'),\n",
    "                cv        = 10)\n",
    "\n",
    "# Se convierte el diccionario a dataframe para facilitar la visualización\n",
    "cv_scores = pd.DataFrame(cv_scores)\n",
    "cv_scores\n"
   ]
  },
  {
   "cell_type": "code",
   "execution_count": 28,
   "metadata": {},
   "outputs": [
    {
     "name": "stdout",
     "output_type": "stream",
     "text": [
      "la media para el r2 es -4.88\n",
      "la media para el RMSE es 873.9\n"
     ]
    }
   ],
   "source": [
    "# calculamos la media para cada una de las métricas\n",
    "\n",
    "print(f'la media para el r2 es {cv_scores[\"test_r2\"].mean().round(2)}')\n",
    "print(f'la media para el RMSE es {abs(cv_scores[\"test_neg_root_mean_squared_error\"].mean().round(2))}')"
   ]
  },
  {
   "attachments": {},
   "cell_type": "markdown",
   "metadata": {},
   "source": [
    "Vamos a realizar lo  mismo pero con los datos estandarizados"
   ]
  },
  {
   "cell_type": "code",
   "execution_count": 16,
   "metadata": {},
   "outputs": [
    {
     "data": {
      "text/html": [
       "<div>\n",
       "<style scoped>\n",
       "    .dataframe tbody tr th:only-of-type {\n",
       "        vertical-align: middle;\n",
       "    }\n",
       "\n",
       "    .dataframe tbody tr th {\n",
       "        vertical-align: top;\n",
       "    }\n",
       "\n",
       "    .dataframe thead th {\n",
       "        text-align: right;\n",
       "    }\n",
       "</style>\n",
       "<table border=\"1\" class=\"dataframe\">\n",
       "  <thead>\n",
       "    <tr style=\"text-align: right;\">\n",
       "      <th></th>\n",
       "      <th>carat</th>\n",
       "      <th>depth</th>\n",
       "      <th>table</th>\n",
       "      <th>price</th>\n",
       "      <th>x</th>\n",
       "      <th>y</th>\n",
       "      <th>z</th>\n",
       "      <th>cut_map</th>\n",
       "      <th>color_map</th>\n",
       "      <th>clarity_map</th>\n",
       "    </tr>\n",
       "  </thead>\n",
       "  <tbody>\n",
       "    <tr>\n",
       "      <th>0</th>\n",
       "      <td>-0.746032</td>\n",
       "      <td>-0.214286</td>\n",
       "      <td>-0.666667</td>\n",
       "      <td>326</td>\n",
       "      <td>-0.931818</td>\n",
       "      <td>-0.919540</td>\n",
       "      <td>-0.909091</td>\n",
       "      <td>4</td>\n",
       "      <td>5</td>\n",
       "      <td>1</td>\n",
       "    </tr>\n",
       "    <tr>\n",
       "      <th>1</th>\n",
       "      <td>-0.777778</td>\n",
       "      <td>-1.428571</td>\n",
       "      <td>1.333333</td>\n",
       "      <td>326</td>\n",
       "      <td>-0.965909</td>\n",
       "      <td>-1.000000</td>\n",
       "      <td>-1.018182</td>\n",
       "      <td>3</td>\n",
       "      <td>5</td>\n",
       "      <td>2</td>\n",
       "    </tr>\n",
       "    <tr>\n",
       "      <th>2</th>\n",
       "      <td>-0.746032</td>\n",
       "      <td>-3.500000</td>\n",
       "      <td>2.666667</td>\n",
       "      <td>327</td>\n",
       "      <td>-0.875000</td>\n",
       "      <td>-0.867816</td>\n",
       "      <td>-1.018182</td>\n",
       "      <td>1</td>\n",
       "      <td>5</td>\n",
       "      <td>4</td>\n",
       "    </tr>\n",
       "    <tr>\n",
       "      <th>3</th>\n",
       "      <td>-0.650794</td>\n",
       "      <td>0.428571</td>\n",
       "      <td>0.333333</td>\n",
       "      <td>334</td>\n",
       "      <td>-0.789773</td>\n",
       "      <td>-0.775862</td>\n",
       "      <td>-0.727273</td>\n",
       "      <td>3</td>\n",
       "      <td>1</td>\n",
       "      <td>3</td>\n",
       "    </tr>\n",
       "    <tr>\n",
       "      <th>4</th>\n",
       "      <td>-0.619048</td>\n",
       "      <td>1.071429</td>\n",
       "      <td>0.333333</td>\n",
       "      <td>335</td>\n",
       "      <td>-0.710227</td>\n",
       "      <td>-0.706897</td>\n",
       "      <td>-0.618182</td>\n",
       "      <td>1</td>\n",
       "      <td>0</td>\n",
       "      <td>1</td>\n",
       "    </tr>\n",
       "  </tbody>\n",
       "</table>\n",
       "</div>"
      ],
      "text/plain": [
       "      carat     depth     table  price         x         y         z  cut_map  \\\n",
       "0 -0.746032 -0.214286 -0.666667    326 -0.931818 -0.919540 -0.909091        4   \n",
       "1 -0.777778 -1.428571  1.333333    326 -0.965909 -1.000000 -1.018182        3   \n",
       "2 -0.746032 -3.500000  2.666667    327 -0.875000 -0.867816 -1.018182        1   \n",
       "3 -0.650794  0.428571  0.333333    334 -0.789773 -0.775862 -0.727273        3   \n",
       "4 -0.619048  1.071429  0.333333    335 -0.710227 -0.706897 -0.618182        1   \n",
       "\n",
       "   color_map  clarity_map  \n",
       "0          5            1  \n",
       "1          5            2  \n",
       "2          5            4  \n",
       "3          1            3  \n",
       "4          0            1  "
      ]
     },
     "execution_count": 16,
     "metadata": {},
     "output_type": "execute_result"
    }
   ],
   "source": [
    "df2 = pd.read_csv(\"../ficheros/diamons_estand_enconding.csv\", index_col = 0)\n",
    "df2.head()"
   ]
  },
  {
   "cell_type": "code",
   "execution_count": 17,
   "metadata": {},
   "outputs": [],
   "source": [
    "#Comenzamos separando la \"X\" y la \"y\"\n",
    "X2 = df2.drop(\"price\", axis = 1)\n",
    "y2= df2[\"price\"]"
   ]
  },
  {
   "cell_type": "code",
   "execution_count": 18,
   "metadata": {},
   "outputs": [
    {
     "data": {
      "text/html": [
       "<div>\n",
       "<style scoped>\n",
       "    .dataframe tbody tr th:only-of-type {\n",
       "        vertical-align: middle;\n",
       "    }\n",
       "\n",
       "    .dataframe tbody tr th {\n",
       "        vertical-align: top;\n",
       "    }\n",
       "\n",
       "    .dataframe thead th {\n",
       "        text-align: right;\n",
       "    }\n",
       "</style>\n",
       "<table border=\"1\" class=\"dataframe\">\n",
       "  <thead>\n",
       "    <tr style=\"text-align: right;\">\n",
       "      <th></th>\n",
       "      <th>carat</th>\n",
       "      <th>depth</th>\n",
       "      <th>table</th>\n",
       "      <th>x</th>\n",
       "      <th>y</th>\n",
       "      <th>z</th>\n",
       "      <th>cut_map</th>\n",
       "      <th>color_map</th>\n",
       "      <th>clarity_map</th>\n",
       "    </tr>\n",
       "  </thead>\n",
       "  <tbody>\n",
       "    <tr>\n",
       "      <th>0</th>\n",
       "      <td>-0.746032</td>\n",
       "      <td>-0.214286</td>\n",
       "      <td>-0.666667</td>\n",
       "      <td>-0.931818</td>\n",
       "      <td>-0.91954</td>\n",
       "      <td>-0.909091</td>\n",
       "      <td>4</td>\n",
       "      <td>5</td>\n",
       "      <td>1</td>\n",
       "    </tr>\n",
       "    <tr>\n",
       "      <th>1</th>\n",
       "      <td>-0.777778</td>\n",
       "      <td>-1.428571</td>\n",
       "      <td>1.333333</td>\n",
       "      <td>-0.965909</td>\n",
       "      <td>-1.00000</td>\n",
       "      <td>-1.018182</td>\n",
       "      <td>3</td>\n",
       "      <td>5</td>\n",
       "      <td>2</td>\n",
       "    </tr>\n",
       "  </tbody>\n",
       "</table>\n",
       "</div>"
      ],
      "text/plain": [
       "      carat     depth     table         x        y         z  cut_map  \\\n",
       "0 -0.746032 -0.214286 -0.666667 -0.931818 -0.91954 -0.909091        4   \n",
       "1 -0.777778 -1.428571  1.333333 -0.965909 -1.00000 -1.018182        3   \n",
       "\n",
       "   color_map  clarity_map  \n",
       "0          5            1  \n",
       "1          5            2  "
      ]
     },
     "execution_count": 18,
     "metadata": {},
     "output_type": "execute_result"
    }
   ],
   "source": [
    "X2.head(2)"
   ]
  },
  {
   "cell_type": "code",
   "execution_count": 19,
   "metadata": {},
   "outputs": [
    {
     "data": {
      "text/plain": [
       "0    326\n",
       "1    326\n",
       "Name: price, dtype: int64"
      ]
     },
     "execution_count": 19,
     "metadata": {},
     "output_type": "execute_result"
    }
   ],
   "source": [
    "y2.head(2)"
   ]
  },
  {
   "cell_type": "code",
   "execution_count": 20,
   "metadata": {},
   "outputs": [],
   "source": [
    "x2_train, x2_test, y2_train, y2_test = train_test_split(X2, y2, test_size = 0.2, random_state = 42)\n",
    "# Siguiente paso creamos el train y es test"
   ]
  },
  {
   "cell_type": "code",
   "execution_count": 21,
   "metadata": {},
   "outputs": [],
   "source": [
    "#vamos a ajustar nuestro modelo\n",
    "lr2= LinearRegression(n_jobs=-1)"
   ]
  },
  {
   "cell_type": "code",
   "execution_count": 22,
   "metadata": {},
   "outputs": [
    {
     "data": {
      "text/plain": [
       "LinearRegression(n_jobs=-1)"
      ]
     },
     "execution_count": 22,
     "metadata": {},
     "output_type": "execute_result"
    }
   ],
   "source": [
    "#Vamos a fitear nuestro modelo \n",
    "#solamente con los datos de entrenamiento, para que aprenda el algoritmo\n",
    "lr2.fit(x2_train, y2_train)"
   ]
  },
  {
   "cell_type": "code",
   "execution_count": 23,
   "metadata": {},
   "outputs": [],
   "source": [
    "#Ahora haremos las predicciones con el metodo predict\n",
    "y2_predict_train = lr2.predict(x2_train) \n",
    "y2_predict_test = lr2.predict(x2_test) \n"
   ]
  },
  {
   "cell_type": "code",
   "execution_count": 24,
   "metadata": {},
   "outputs": [
    {
     "data": {
      "text/html": [
       "<div>\n",
       "<style scoped>\n",
       "    .dataframe tbody tr th:only-of-type {\n",
       "        vertical-align: middle;\n",
       "    }\n",
       "\n",
       "    .dataframe tbody tr th {\n",
       "        vertical-align: top;\n",
       "    }\n",
       "\n",
       "    .dataframe thead th {\n",
       "        text-align: right;\n",
       "    }\n",
       "</style>\n",
       "<table border=\"1\" class=\"dataframe\">\n",
       "  <thead>\n",
       "    <tr style=\"text-align: right;\">\n",
       "      <th></th>\n",
       "      <th>Real</th>\n",
       "      <th>Predicted</th>\n",
       "      <th>Set</th>\n",
       "    </tr>\n",
       "  </thead>\n",
       "  <tbody>\n",
       "    <tr>\n",
       "      <th>31266</th>\n",
       "      <td>880</td>\n",
       "      <td>477.102597</td>\n",
       "      <td>Train</td>\n",
       "    </tr>\n",
       "    <tr>\n",
       "      <th>20273</th>\n",
       "      <td>8736</td>\n",
       "      <td>7692.039067</td>\n",
       "      <td>Train</td>\n",
       "    </tr>\n",
       "    <tr>\n",
       "      <th>17102</th>\n",
       "      <td>6848</td>\n",
       "      <td>6605.440777</td>\n",
       "      <td>Train</td>\n",
       "    </tr>\n",
       "    <tr>\n",
       "      <th>45495</th>\n",
       "      <td>2075</td>\n",
       "      <td>2259.005743</td>\n",
       "      <td>Train</td>\n",
       "    </tr>\n",
       "    <tr>\n",
       "      <th>16966</th>\n",
       "      <td>6793</td>\n",
       "      <td>6420.073325</td>\n",
       "      <td>Train</td>\n",
       "    </tr>\n",
       "  </tbody>\n",
       "</table>\n",
       "</div>"
      ],
      "text/plain": [
       "       Real    Predicted    Set\n",
       "31266   880   477.102597  Train\n",
       "20273  8736  7692.039067  Train\n",
       "17102  6848  6605.440777  Train\n",
       "45495  2075  2259.005743  Train\n",
       "16966  6793  6420.073325  Train"
      ]
     },
     "execution_count": 24,
     "metadata": {},
     "output_type": "execute_result"
    }
   ],
   "source": [
    "#Y ahora creamos los dataframes, comparando lo real con la predicción\n",
    "train_df2 = pd.DataFrame({'Real': y2_train, 'Predicted': y2_predict_train, 'Set': ['Train']*len(y2_train)})\n",
    "test_df2  = pd.DataFrame({'Real': y2_test,  'Predicted': y2_predict_test,  'Set': ['Test']*len(y2_test)})\n",
    "resultados2 = pd.concat([train_df2,test_df2], axis = 0)\n",
    "resultados2.head()"
   ]
  },
  {
   "cell_type": "code",
   "execution_count": 25,
   "metadata": {},
   "outputs": [
    {
     "data": {
      "text/html": [
       "<div>\n",
       "<style scoped>\n",
       "    .dataframe tbody tr th:only-of-type {\n",
       "        vertical-align: middle;\n",
       "    }\n",
       "\n",
       "    .dataframe tbody tr th {\n",
       "        vertical-align: top;\n",
       "    }\n",
       "\n",
       "    .dataframe thead th {\n",
       "        text-align: right;\n",
       "    }\n",
       "</style>\n",
       "<table border=\"1\" class=\"dataframe\">\n",
       "  <thead>\n",
       "    <tr style=\"text-align: right;\">\n",
       "      <th></th>\n",
       "      <th>Real</th>\n",
       "      <th>Predicted</th>\n",
       "      <th>Set</th>\n",
       "      <th>residuos</th>\n",
       "    </tr>\n",
       "  </thead>\n",
       "  <tbody>\n",
       "    <tr>\n",
       "      <th>31266</th>\n",
       "      <td>880</td>\n",
       "      <td>477.102597</td>\n",
       "      <td>Train</td>\n",
       "      <td>402.897403</td>\n",
       "    </tr>\n",
       "    <tr>\n",
       "      <th>20273</th>\n",
       "      <td>8736</td>\n",
       "      <td>7692.039067</td>\n",
       "      <td>Train</td>\n",
       "      <td>1043.960933</td>\n",
       "    </tr>\n",
       "    <tr>\n",
       "      <th>17102</th>\n",
       "      <td>6848</td>\n",
       "      <td>6605.440777</td>\n",
       "      <td>Train</td>\n",
       "      <td>242.559223</td>\n",
       "    </tr>\n",
       "    <tr>\n",
       "      <th>45495</th>\n",
       "      <td>2075</td>\n",
       "      <td>2259.005743</td>\n",
       "      <td>Train</td>\n",
       "      <td>-184.005743</td>\n",
       "    </tr>\n",
       "    <tr>\n",
       "      <th>16966</th>\n",
       "      <td>6793</td>\n",
       "      <td>6420.073325</td>\n",
       "      <td>Train</td>\n",
       "      <td>372.926675</td>\n",
       "    </tr>\n",
       "  </tbody>\n",
       "</table>\n",
       "</div>"
      ],
      "text/plain": [
       "       Real    Predicted    Set     residuos\n",
       "31266   880   477.102597  Train   402.897403\n",
       "20273  8736  7692.039067  Train  1043.960933\n",
       "17102  6848  6605.440777  Train   242.559223\n",
       "45495  2075  2259.005743  Train  -184.005743\n",
       "16966  6793  6420.073325  Train   372.926675"
      ]
     },
     "execution_count": 25,
     "metadata": {},
     "output_type": "execute_result"
    }
   ],
   "source": [
    "#vamos a por los resultados\n",
    "resultados2['residuos'] = resultados2['Real'] - resultados2['Predicted']\n",
    "resultados2.head()"
   ]
  },
  {
   "cell_type": "code",
   "execution_count": 29,
   "metadata": {},
   "outputs": [
    {
     "data": {
      "text/html": [
       "<div>\n",
       "<style scoped>\n",
       "    .dataframe tbody tr th:only-of-type {\n",
       "        vertical-align: middle;\n",
       "    }\n",
       "\n",
       "    .dataframe tbody tr th {\n",
       "        vertical-align: top;\n",
       "    }\n",
       "\n",
       "    .dataframe thead th {\n",
       "        text-align: right;\n",
       "    }\n",
       "</style>\n",
       "<table border=\"1\" class=\"dataframe\">\n",
       "  <thead>\n",
       "    <tr style=\"text-align: right;\">\n",
       "      <th></th>\n",
       "      <th>fit_time</th>\n",
       "      <th>score_time</th>\n",
       "      <th>test_r2</th>\n",
       "      <th>test_neg_root_mean_squared_error</th>\n",
       "    </tr>\n",
       "  </thead>\n",
       "  <tbody>\n",
       "    <tr>\n",
       "      <th>0</th>\n",
       "      <td>0.011849</td>\n",
       "      <td>0.003931</td>\n",
       "      <td>0.270368</td>\n",
       "      <td>-750.089850</td>\n",
       "    </tr>\n",
       "    <tr>\n",
       "      <th>1</th>\n",
       "      <td>0.008056</td>\n",
       "      <td>0.003202</td>\n",
       "      <td>0.613264</td>\n",
       "      <td>-723.653609</td>\n",
       "    </tr>\n",
       "    <tr>\n",
       "      <th>2</th>\n",
       "      <td>0.015973</td>\n",
       "      <td>0.002904</td>\n",
       "      <td>0.699451</td>\n",
       "      <td>-792.087817</td>\n",
       "    </tr>\n",
       "    <tr>\n",
       "      <th>3</th>\n",
       "      <td>0.013937</td>\n",
       "      <td>0.002512</td>\n",
       "      <td>0.587253</td>\n",
       "      <td>-1348.532508</td>\n",
       "    </tr>\n",
       "    <tr>\n",
       "      <th>4</th>\n",
       "      <td>0.012663</td>\n",
       "      <td>0.003401</td>\n",
       "      <td>0.779252</td>\n",
       "      <td>-2144.662481</td>\n",
       "    </tr>\n",
       "    <tr>\n",
       "      <th>5</th>\n",
       "      <td>0.010375</td>\n",
       "      <td>0.002177</td>\n",
       "      <td>-29.964276</td>\n",
       "      <td>-567.578382</td>\n",
       "    </tr>\n",
       "    <tr>\n",
       "      <th>6</th>\n",
       "      <td>0.009932</td>\n",
       "      <td>0.003237</td>\n",
       "      <td>-15.330936</td>\n",
       "      <td>-621.296654</td>\n",
       "    </tr>\n",
       "    <tr>\n",
       "      <th>7</th>\n",
       "      <td>0.017768</td>\n",
       "      <td>0.002391</td>\n",
       "      <td>-5.595313</td>\n",
       "      <td>-630.216456</td>\n",
       "    </tr>\n",
       "    <tr>\n",
       "      <th>8</th>\n",
       "      <td>0.009087</td>\n",
       "      <td>0.004142</td>\n",
       "      <td>-0.659040</td>\n",
       "      <td>-541.903649</td>\n",
       "    </tr>\n",
       "    <tr>\n",
       "      <th>9</th>\n",
       "      <td>0.009140</td>\n",
       "      <td>0.003803</td>\n",
       "      <td>-0.151269</td>\n",
       "      <td>-618.981590</td>\n",
       "    </tr>\n",
       "  </tbody>\n",
       "</table>\n",
       "</div>"
      ],
      "text/plain": [
       "   fit_time  score_time    test_r2  test_neg_root_mean_squared_error\n",
       "0  0.011849    0.003931   0.270368                       -750.089850\n",
       "1  0.008056    0.003202   0.613264                       -723.653609\n",
       "2  0.015973    0.002904   0.699451                       -792.087817\n",
       "3  0.013937    0.002512   0.587253                      -1348.532508\n",
       "4  0.012663    0.003401   0.779252                      -2144.662481\n",
       "5  0.010375    0.002177 -29.964276                       -567.578382\n",
       "6  0.009932    0.003237 -15.330936                       -621.296654\n",
       "7  0.017768    0.002391  -5.595313                       -630.216456\n",
       "8  0.009087    0.004142  -0.659040                       -541.903649\n",
       "9  0.009140    0.003803  -0.151269                       -618.981590"
      ]
     },
     "execution_count": 29,
     "metadata": {},
     "output_type": "execute_result"
    }
   ],
   "source": [
    "cv_scores2 = cross_validate(\n",
    "                estimator = LinearRegression(),\n",
    "                X         = X2,\n",
    "                y         = y2,\n",
    "                scoring   = ('r2', 'neg_root_mean_squared_error'),\n",
    "                cv        = 10)\n",
    "\n",
    "# Se convierte el diccionario a dataframe para facilitar la visualización\n",
    "cv_scores2 = pd.DataFrame(cv_scores2)\n",
    "cv_scores2\n"
   ]
  },
  {
   "cell_type": "code",
   "execution_count": 30,
   "metadata": {},
   "outputs": [
    {
     "name": "stdout",
     "output_type": "stream",
     "text": [
      "la media para el r2 es -4.88\n",
      "la media para el RMSE es 873.9\n"
     ]
    }
   ],
   "source": [
    "# calculamos la media para cada una de las métricas\n",
    "\n",
    "print(f'la media para el r2 es {cv_scores2[\"test_r2\"].mean().round(2)}')\n",
    "print(f'la media para el RMSE es {abs(cv_scores2[\"test_neg_root_mean_squared_error\"].mean().round(2))}')"
   ]
  },
  {
   "attachments": {},
   "cell_type": "markdown",
   "metadata": {},
   "source": [
    "Podemos ver que el modelo ajusta fatal, cosa que ya nos esperábamos porque nuestros datos no eran normales"
   ]
  }
 ],
 "metadata": {
  "kernelspec": {
   "display_name": "base",
   "language": "python",
   "name": "python3"
  },
  "language_info": {
   "codemirror_mode": {
    "name": "ipython",
    "version": 3
   },
   "file_extension": ".py",
   "mimetype": "text/x-python",
   "name": "python",
   "nbconvert_exporter": "python",
   "pygments_lexer": "ipython3",
   "version": "3.9.7"
  },
  "orig_nbformat": 4,
  "vscode": {
   "interpreter": {
    "hash": "f25093244bacc7e62393c275f4a06a2027bcbdb9a67d7fe53680dbd2484adc03"
   }
  }
 },
 "nbformat": 4,
 "nbformat_minor": 2
}
